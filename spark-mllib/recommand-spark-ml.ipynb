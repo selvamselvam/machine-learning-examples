{
 "cells": [
  {
   "cell_type": "code",
   "execution_count": 1,
   "id": "atmospheric-bailey",
   "metadata": {},
   "outputs": [],
   "source": [
    "from pyspark.sql import SparkSession\n",
    "import pandas as pd\n",
    "from pyspark.ml.recommendation import ALS\n",
    "from pyspark.sql import Row\n",
    "\n",
    "spark = SparkSession.builder.appName(\"SimpleApp3\").getOrCreate()\n",
    "\n",
    "ratings = spark.read.text(\"../data/sample_movielens_ratings.txt\")\\\n",
    ".rdd.toDF()\\\n",
    ".selectExpr(\"split(value , '::') as col\")\\\n",
    ".selectExpr(\n",
    "\"cast(col[0] as int) as userId\",\n",
    "\"cast(col[1] as int) as movieId\",\n",
    "\"cast(col[2] as float) as rating\",\n",
    "\"cast(col[3] as long) as timestamp\")\n"
   ]
  },
  {
   "cell_type": "code",
   "execution_count": 2,
   "id": "pretty-margin",
   "metadata": {},
   "outputs": [
    {
     "name": "stdout",
     "output_type": "stream",
     "text": [
      "+------+-------+------+----------+\n",
      "|userId|movieId|rating| timestamp|\n",
      "+------+-------+------+----------+\n",
      "|     0|      2|   3.0|1424380312|\n",
      "|     0|      3|   1.0|1424380312|\n",
      "|     0|      5|   2.0|1424380312|\n",
      "|     0|      9|   4.0|1424380312|\n",
      "|     0|     11|   1.0|1424380312|\n",
      "|     0|     12|   2.0|1424380312|\n",
      "|     0|     15|   1.0|1424380312|\n",
      "|     0|     17|   1.0|1424380312|\n",
      "|     0|     19|   1.0|1424380312|\n",
      "|     0|     21|   1.0|1424380312|\n",
      "+------+-------+------+----------+\n",
      "only showing top 10 rows\n",
      "\n"
     ]
    }
   ],
   "source": [
    "ratings.show(10)"
   ]
  },
  {
   "cell_type": "code",
   "execution_count": 3,
   "id": "knowing-thing",
   "metadata": {},
   "outputs": [],
   "source": [
    "training, test = ratings.randomSplit([0.8, 0.2])"
   ]
  },
  {
   "cell_type": "code",
   "execution_count": 5,
   "id": "built-virus",
   "metadata": {},
   "outputs": [
    {
     "name": "stdout",
     "output_type": "stream",
     "text": [
      "alpha: alpha for implicit preference (default: 1.0)\n",
      "blockSize: block size for stacking input data in matrices. Data is stacked within partitions. If block size is more than remaining data in a partition then it is adjusted to the size of this data. (default: 4096)\n",
      "checkpointInterval: set checkpoint interval (>= 1) or disable checkpoint (-1). E.g. 10 means that the cache will get checkpointed every 10 iterations. Note: this setting will be ignored if the checkpoint directory is not set in the SparkContext. (default: 10)\n",
      "coldStartStrategy: strategy for dealing with unknown or new users/items at prediction time. This may be useful in cross-validation or production scenarios, for handling user/item ids the model has not seen in the training data. Supported values: 'nan', 'drop'. (default: nan)\n",
      "finalStorageLevel: StorageLevel for ALS model factors. (default: MEMORY_AND_DISK)\n",
      "implicitPrefs: whether to use implicit preference (default: False)\n",
      "intermediateStorageLevel: StorageLevel for intermediate datasets. Cannot be 'NONE'. (default: MEMORY_AND_DISK)\n",
      "itemCol: column name for item ids. Ids must be within the integer value range. (default: item, current: movieId)\n",
      "maxIter: max number of iterations (>= 0). (default: 10, current: 5)\n",
      "nonnegative: whether to use nonnegative constraint for least squares (default: False)\n",
      "numItemBlocks: number of item blocks (default: 10)\n",
      "numUserBlocks: number of user blocks (default: 10)\n",
      "predictionCol: prediction column name. (default: prediction)\n",
      "rank: rank of the factorization (default: 10)\n",
      "ratingCol: column name for ratings (default: rating, current: rating)\n",
      "regParam: regularization parameter (>= 0). (default: 0.1, current: 0.01)\n",
      "seed: random seed. (default: 7139942571689277338)\n",
      "userCol: column name for user ids. Ids must be within the integer value range. (default: user, current: userId)\n"
     ]
    }
   ],
   "source": [
    "als = ALS()\\\n",
    ".setMaxIter(5)\\\n",
    ".setRegParam(0.01)\\\n",
    ".setUserCol(\"userId\")\\\n",
    ".setItemCol(\"movieId\")\\\n",
    ".setRatingCol(\"rating\")\n",
    "print (als.explainParams())\n",
    "alsModel = als.fit(training)\n",
    "predictions = alsModel.transform(test)"
   ]
  },
  {
   "cell_type": "code",
   "execution_count": 6,
   "id": "closing-contamination",
   "metadata": {},
   "outputs": [
    {
     "name": "stdout",
     "output_type": "stream",
     "text": [
      "+------+---------------+\n",
      "|userId|            col|\n",
      "+------+---------------+\n",
      "|    28|{90, 5.3888936}|\n",
      "|    28|{92, 4.9344115}|\n",
      "|    28|{12, 4.7196984}|\n",
      "|    28|{81, 4.5641074}|\n",
      "|    28| {2, 4.5159183}|\n",
      "|    28|{49, 4.1611114}|\n",
      "|    28| {8, 4.0457015}|\n",
      "|    28|{41, 3.7586837}|\n",
      "|    28| {32, 3.553004}|\n",
      "|    28|{87, 3.4894001}|\n",
      "|    26|{46, 6.4369264}|\n",
      "|    26| {64, 5.467854}|\n",
      "|    26|{79, 5.2971153}|\n",
      "|    26|{24, 5.1968746}|\n",
      "|    26|{23, 5.0114326}|\n",
      "|    26| {7, 4.9094357}|\n",
      "|    26|{94, 4.6878347}|\n",
      "|    26|{88, 4.6268067}|\n",
      "|    26|{80, 4.1739163}|\n",
      "|    26|{68, 4.1596293}|\n",
      "+------+---------------+\n",
      "only showing top 20 rows\n",
      "\n",
      "+-------+---------------+\n",
      "|movieId|            col|\n",
      "+-------+---------------+\n",
      "|     31| {23, 4.384329}|\n",
      "|     31|{17, 4.2648764}|\n",
      "|     31|{12, 3.4872496}|\n",
      "|     31| {10, 3.413122}|\n",
      "|     31|{26, 3.2221746}|\n",
      "|     31|{14, 3.0931547}|\n",
      "|     31|  {6, 2.681456}|\n",
      "|     31|  {7, 2.585241}|\n",
      "|     31|  {8, 2.555776}|\n",
      "|     31| {15, 2.511889}|\n",
      "|     85|{16, 5.1661696}|\n",
      "|     85| {10, 4.751563}|\n",
      "|     85|  {8, 4.669748}|\n",
      "|     85| {7, 3.6241808}|\n",
      "|     85| {28, 3.264544}|\n",
      "|     85|{21, 3.2631476}|\n",
      "|     85|  {6, 3.068635}|\n",
      "|     85| {1, 2.9185774}|\n",
      "|     85| {0, 2.4873755}|\n",
      "|     85|{18, 2.2886767}|\n",
      "+-------+---------------+\n",
      "only showing top 20 rows\n",
      "\n"
     ]
    }
   ],
   "source": [
    "alsModel.recommendForAllUsers(10)\\\n",
    ".selectExpr(\"userId\", \"explode(recommendations)\").show()\n",
    "alsModel.recommendForAllItems(10)\\\n",
    ".selectExpr(\"movieId\", \"explode(recommendations)\").show()"
   ]
  },
  {
   "cell_type": "code",
   "execution_count": 7,
   "id": "human-color",
   "metadata": {},
   "outputs": [
    {
     "name": "stdout",
     "output_type": "stream",
     "text": [
      "Root-mean-square error = 2.052589\n"
     ]
    }
   ],
   "source": [
    "from pyspark.ml.evaluation import RegressionEvaluator\n",
    "evaluator = RegressionEvaluator()\\\n",
    ".setMetricName(\"rmse\")\\\n",
    ".setLabelCol(\"rating\")\\\n",
    ".setPredictionCol(\"prediction\")\n",
    "rmse = evaluator.evaluate(predictions)\n",
    "print(\"Root-mean-square error = %f\" % rmse)"
   ]
  },
  {
   "cell_type": "code",
   "execution_count": 8,
   "id": "clean-traffic",
   "metadata": {},
   "outputs": [],
   "source": [
    "from pyspark.mllib.evaluation import RankingMetrics, RegressionMetrics\n",
    "from pyspark.sql.functions import col, expr\n",
    "perUserActual = predictions\\\n",
    ".where(\"rating > 2.5\")\\\n",
    ".groupBy(\"userId\")\\\n",
    ".agg(expr(\"collect_set(movieId) as movies\"))"
   ]
  },
  {
   "cell_type": "code",
   "execution_count": 9,
   "id": "future-camel",
   "metadata": {},
   "outputs": [
    {
     "name": "stdout",
     "output_type": "stream",
     "text": [
      "+------+--------------------+\n",
      "|userId|              movies|\n",
      "+------+--------------------+\n",
      "|    28|         [0, 19, 89]|\n",
      "|    26|    [21, 36, 22, 73]|\n",
      "|    27|        [33, 19, 75]|\n",
      "|    12|[16, 64, 17, 35, 94]|\n",
      "|    22|        [70, 36, 87]|\n",
      "|     1|        [21, 28, 77]|\n",
      "|    13|            [72, 29]|\n",
      "|    16|                [94]|\n",
      "|     6|                 [2]|\n",
      "|     3| [34, 52, 88, 24, 7]|\n",
      "|     5|[13, 49, 20, 68, 55]|\n",
      "|    19|[74, 32, 54, 94, 98]|\n",
      "|    15|            [64, 26]|\n",
      "|     9|        [70, 43, 95]|\n",
      "|    17|    [49, 46, 56, 90]|\n",
      "|     4|        [60, 52, 87]|\n",
      "|     8|        [31, 58, 62]|\n",
      "|    23|    [48, 30, 50, 18]|\n",
      "|    10|            [89, 25]|\n",
      "|    25|            [12, 34]|\n",
      "+------+--------------------+\n",
      "only showing top 20 rows\n",
      "\n"
     ]
    }
   ],
   "source": [
    "perUserActual.show()"
   ]
  },
  {
   "cell_type": "code",
   "execution_count": null,
   "id": "fixed-complement",
   "metadata": {},
   "outputs": [],
   "source": []
  }
 ],
 "metadata": {
  "kernelspec": {
   "display_name": "Python 3",
   "language": "python",
   "name": "python3"
  },
  "language_info": {
   "codemirror_mode": {
    "name": "ipython",
    "version": 3
   },
   "file_extension": ".py",
   "mimetype": "text/x-python",
   "name": "python",
   "nbconvert_exporter": "python",
   "pygments_lexer": "ipython3",
   "version": "3.8.8"
  }
 },
 "nbformat": 4,
 "nbformat_minor": 5
}
