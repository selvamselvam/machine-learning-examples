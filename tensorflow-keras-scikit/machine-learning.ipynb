{
 "cells": [
  {
   "cell_type": "code",
   "execution_count": 1,
   "id": "sublime-validation",
   "metadata": {},
   "outputs": [],
   "source": [
    "import tensorflow as tf\n",
    "import pandas as pd\n",
    "import numpy as np\n",
    "from matplotlib import pyplot as plt"
   ]
  },
  {
   "cell_type": "code",
   "execution_count": 2,
   "id": "special-harmony",
   "metadata": {},
   "outputs": [],
   "source": [
    "my_feature = ([1.0, 2.0,  3.0,  4.0,  5.0,  6.0,  7.0,  8.0,  9.0, 10.0, 11.0, 12.0])\n",
    "my_label   = ([5.0, 8.8,  9.6, 14.2, 18.8, 19.5, 21.4, 26.8, 28.9, 32.0, 33.8, 38.2])"
   ]
  },
  {
   "cell_type": "code",
   "execution_count": 3,
   "id": "extra-lobby",
   "metadata": {},
   "outputs": [
    {
     "data": {
      "text/plain": [
       "[1.0, 2.0, 3.0, 4.0, 5.0, 6.0, 7.0, 8.0, 9.0, 10.0, 11.0, 12.0]"
      ]
     },
     "execution_count": 3,
     "metadata": {},
     "output_type": "execute_result"
    }
   ],
   "source": [
    "my_feature"
   ]
  },
  {
   "cell_type": "code",
   "execution_count": 4,
   "id": "overhead-peripheral",
   "metadata": {},
   "outputs": [
    {
     "data": {
      "text/plain": [
       "[5.0, 8.8, 9.6, 14.2, 18.8, 19.5, 21.4, 26.8, 28.9, 32.0, 33.8, 38.2]"
      ]
     },
     "execution_count": 4,
     "metadata": {},
     "output_type": "execute_result"
    }
   ],
   "source": [
    "my_label"
   ]
  },
  {
   "cell_type": "code",
   "execution_count": 5,
   "id": "divided-dialogue",
   "metadata": {},
   "outputs": [
    {
     "name": "stdout",
     "output_type": "stream",
     "text": [
      "Defined create_model and train_model\n"
     ]
    }
   ],
   "source": [
    "#@title Define the functions that build and train a model\n",
    "def build_model(my_learning_rate):\n",
    "  \"\"\"Create and compile a simple linear regression model.\"\"\"\n",
    "  # Most simple tf.keras models are sequential. \n",
    "  # A sequential model contains one or more layers.\n",
    "  model = tf.keras.models.Sequential()\n",
    "\n",
    "  # Describe the topography of the model.\n",
    "  # The topography of a simple linear regression model\n",
    "  # is a single node in a single layer. \n",
    "  model.add(tf.keras.layers.Dense(units=1, \n",
    "                                  input_shape=(1,)))\n",
    "\n",
    "  # Compile the model topography into code that \n",
    "  # TensorFlow can efficiently execute. Configure \n",
    "  # training to minimize the model's mean squared error. \n",
    "  model.compile(optimizer=tf.keras.optimizers.RMSprop(lr=my_learning_rate),\n",
    "                loss=\"mean_squared_error\",\n",
    "                metrics=[tf.keras.metrics.RootMeanSquaredError()])\n",
    "\n",
    "  return model           \n",
    "\n",
    "\n",
    "def train_model(model, feature, label, epochs, batch_size):\n",
    "  \"\"\"Train the model by feeding it data.\"\"\"\n",
    "\n",
    "  # Feed the feature values and the label values to the \n",
    "  # model. The model will train for the specified number \n",
    "  # of epochs, gradually learning how the feature values\n",
    "  # relate to the label values. \n",
    "  history = model.fit(x=feature,\n",
    "                      y=label,\n",
    "                      batch_size=batch_size,\n",
    "                      epochs=epochs)\n",
    "\n",
    "  # Gather the trained model's weight and bias.\n",
    "  trained_weight = model.get_weights()[0]\n",
    "  trained_bias = model.get_weights()[1]\n",
    "\n",
    "  # The list of epochs is stored separately from the \n",
    "  # rest of history.\n",
    "  epochs = history.epoch\n",
    "  \n",
    "  # Gather the history (a snapshot) of each epoch.\n",
    "  hist = pd.DataFrame(history.history)\n",
    "\n",
    "  # Specifically gather the model's root mean \n",
    "  #squared error at each epoch. \n",
    "  rmse = hist[\"root_mean_squared_error\"]\n",
    "\n",
    "  return trained_weight, trained_bias, epochs, rmse\n",
    "\n",
    "print(\"Defined create_model and train_model\")"
   ]
  },
  {
   "cell_type": "code",
   "execution_count": 6,
   "id": "boxed-constitution",
   "metadata": {},
   "outputs": [
    {
     "name": "stdout",
     "output_type": "stream",
     "text": [
      "Defined the plot_the_model and plot_the_loss_curve functions.\n"
     ]
    }
   ],
   "source": [
    "#@title Define the plotting functions\n",
    "def plot_the_model(trained_weight, trained_bias, feature, label):\n",
    "  \"\"\"Plot the trained model against the training feature and label.\"\"\"\n",
    "\n",
    "  # Label the axes.\n",
    "  plt.xlabel(\"feature\")\n",
    "  plt.ylabel(\"label\")\n",
    "\n",
    "  # Plot the feature values vs. label values.\n",
    "  plt.scatter(feature, label)\n",
    "\n",
    "  # Create a red line representing the model. The red line starts\n",
    "  # at coordinates (x0, y0) and ends at coordinates (x1, y1).\n",
    "  x0 = 0\n",
    "  y0 = trained_bias\n",
    "  x1 = my_feature[-1]\n",
    "  y1 = trained_bias + (trained_weight * x1)\n",
    "  plt.plot([x0, x1], [y0, y1], c='r')\n",
    "\n",
    "  # Render the scatter plot and the red line.\n",
    "  plt.show()\n",
    "\n",
    "def plot_the_loss_curve(epochs, rmse):\n",
    "  \"\"\"Plot the loss curve, which shows loss vs. epoch.\"\"\"\n",
    "\n",
    "  plt.figure()\n",
    "  plt.xlabel(\"Epoch\")\n",
    "  plt.ylabel(\"Root Mean Squared Error\")\n",
    "\n",
    "  plt.plot(epochs, rmse, label=\"Loss\")\n",
    "  plt.legend()\n",
    "  plt.ylim([rmse.min()*0.97, rmse.max()])\n",
    "  plt.show()\n",
    "\n",
    "print(\"Defined the plot_the_model and plot_the_loss_curve functions.\")"
   ]
  },
  {
   "cell_type": "code",
   "execution_count": 7,
   "id": "similar-influence",
   "metadata": {},
   "outputs": [
    {
     "name": "stdout",
     "output_type": "stream",
     "text": [
      "Epoch 1/10\n",
      "1/1 [==============================] - 0s 0s/step - loss: 541.9189 - root_mean_squared_error: 23.2792\n",
      "Epoch 2/10\n",
      "1/1 [==============================] - 0s 0s/step - loss: 529.8420 - root_mean_squared_error: 23.0183\n",
      "Epoch 3/10\n",
      "1/1 [==============================] - 0s 0s/step - loss: 521.2123 - root_mean_squared_error: 22.8301\n",
      "Epoch 4/10\n",
      "1/1 [==============================] - 0s 0s/step - loss: 514.0642 - root_mean_squared_error: 22.6730\n",
      "Epoch 5/10\n",
      "1/1 [==============================] - 0s 0s/step - loss: 507.7756 - root_mean_squared_error: 22.5339\n",
      "Epoch 6/10\n",
      "1/1 [==============================] - 0s 0s/step - loss: 502.0583 - root_mean_squared_error: 22.4067\n",
      "Epoch 7/10\n",
      "1/1 [==============================] - 0s 0s/step - loss: 496.7518 - root_mean_squared_error: 22.2879\n",
      "Epoch 8/10\n",
      "1/1 [==============================] - 0s 0s/step - loss: 491.7566 - root_mean_squared_error: 22.1756\n",
      "Epoch 9/10\n",
      "1/1 [==============================] - 0s 0s/step - loss: 487.0059 - root_mean_squared_error: 22.0682\n",
      "Epoch 10/10\n",
      "1/1 [==============================] - 0s 0s/step - loss: 482.4526 - root_mean_squared_error: 21.9648\n"
     ]
    },
    {
     "name": "stderr",
     "output_type": "stream",
     "text": [
      "C:\\ProgramData\\Anaconda3\\lib\\site-packages\\numpy\\core\\_asarray.py:136: VisibleDeprecationWarning: Creating an ndarray from ragged nested sequences (which is a list-or-tuple of lists-or-tuples-or ndarrays with different lengths or shapes) is deprecated. If you meant to do this, you must specify 'dtype=object' when creating the ndarray\n",
      "  return array(a, dtype, copy=False, order=order, subok=True)\n"
     ]
    },
    {
     "data": {
      "image/png": "[encoded data removed]",
      "text/plain": [
       "<Figure size 432x288 with 1 Axes>"
      ]
     },
     "metadata": {
      "needs_background": "light"
     },
     "output_type": "display_data"
    },
    {
     "data": {
      "image/png": "[encoded data removed]",
      "text/plain": [
       "<Figure size 432x288 with 1 Axes>"
      ]
     },
     "metadata": {
      "needs_background": "light"
     },
     "output_type": "display_data"
    }
   ],
   "source": [
    "learning_rate = 0.01\n",
    "epochs =10\n",
    "my_batch_size =12\n",
    "\n",
    "my_model = build_model(learning_rate)\n",
    "trained_weight, trained_bias, epochs, rmse = train_model(my_model,my_feature,my_label,epochs,my_batch_size)\n",
    "\n",
    "plot_the_model(trained_weight, trained_bias, my_feature, my_label)\n",
    "plot_the_loss_curve(epochs, rmse)\n"
   ]
  },
  {
   "cell_type": "code",
   "execution_count": 8,
   "id": "extended-cancer",
   "metadata": {},
   "outputs": [
    {
     "name": "stdout",
     "output_type": "stream",
     "text": [
      "Epoch 1/70\n",
      "1/1 [==============================] - 0s 2ms/step - loss: 141.7616 - root_mean_squared_error: 11.9064\n",
      "Epoch 2/70\n",
      "1/1 [==============================] - 0s 1000us/step - loss: 68.3880 - root_mean_squared_error: 8.2697\n",
      "Epoch 3/70\n",
      "1/1 [==============================] - 0s 0s/step - loss: 37.6636 - root_mean_squared_error: 6.1371\n",
      "Epoch 4/70\n",
      "1/1 [==============================] - 0s 997us/step - loss: 21.5427 - root_mean_squared_error: 4.6414\n",
      "Epoch 5/70\n",
      "1/1 [==============================] - 0s 0s/step - loss: 12.4983 - root_mean_squared_error: 3.5353\n",
      "Epoch 6/70\n",
      "1/1 [==============================] - 0s 0s/step - loss: 7.3330 - root_mean_squared_error: 2.7079\n",
      "Epoch 7/70\n",
      "1/1 [==============================] - 0s 0s/step - loss: 4.3993 - root_mean_squared_error: 2.0974\n",
      "Epoch 8/70\n",
      "1/1 [==============================] - 0s 1ms/step - loss: 2.7647 - root_mean_squared_error: 1.6627\n",
      "Epoch 9/70\n",
      "1/1 [==============================] - 0s 959us/step - loss: 1.8794 - root_mean_squared_error: 1.3709\n",
      "Epoch 10/70\n",
      "1/1 [==============================] - 0s 997us/step - loss: 1.4164 - root_mean_squared_error: 1.1901\n",
      "Epoch 11/70\n",
      "1/1 [==============================] - 0s 972us/step - loss: 1.1836 - root_mean_squared_error: 1.0879\n",
      "Epoch 12/70\n",
      "1/1 [==============================] - 0s 1ms/step - loss: 1.0713 - root_mean_squared_error: 1.0350\n",
      "Epoch 13/70\n",
      "1/1 [==============================] - 0s 1ms/step - loss: 1.0192 - root_mean_squared_error: 1.0096\n",
      "Epoch 14/70\n",
      "1/1 [==============================] - 0s 961us/step - loss: 0.9957 - root_mean_squared_error: 0.9978\n",
      "Epoch 15/70\n",
      "1/1 [==============================] - 0s 998us/step - loss: 0.9849 - root_mean_squared_error: 0.9924\n",
      "Epoch 16/70\n",
      "1/1 [==============================] - 0s 1000us/step - loss: 0.9794 - root_mean_squared_error: 0.9896\n",
      "Epoch 17/70\n",
      "1/1 [==============================] - 0s 999us/step - loss: 0.9759 - root_mean_squared_error: 0.9879\n",
      "Epoch 18/70\n",
      "1/1 [==============================] - 0s 999us/step - loss: 0.9732 - root_mean_squared_error: 0.9865\n",
      "Epoch 19/70\n",
      "1/1 [==============================] - 0s 1ms/step - loss: 0.9706 - root_mean_squared_error: 0.9852\n",
      "Epoch 20/70\n",
      "1/1 [==============================] - 0s 1ms/step - loss: 0.9681 - root_mean_squared_error: 0.9839\n",
      "Epoch 21/70\n",
      "1/1 [==============================] - 0s 999us/step - loss: 0.9655 - root_mean_squared_error: 0.9826\n",
      "Epoch 22/70\n",
      "1/1 [==============================] - 0s 1ms/step - loss: 0.9629 - root_mean_squared_error: 0.9813\n",
      "Epoch 23/70\n",
      "1/1 [==============================] - 0s 998us/step - loss: 0.9602 - root_mean_squared_error: 0.9799\n",
      "Epoch 24/70\n",
      "1/1 [==============================] - 0s 1ms/step - loss: 0.9574 - root_mean_squared_error: 0.9785\n",
      "Epoch 25/70\n",
      "1/1 [==============================] - 0s 1ms/step - loss: 0.9546 - root_mean_squared_error: 0.9770\n",
      "Epoch 26/70\n",
      "1/1 [==============================] - 0s 0s/step - loss: 0.9518 - root_mean_squared_error: 0.9756\n",
      "Epoch 27/70\n",
      "1/1 [==============================] - 0s 1ms/step - loss: 0.9489 - root_mean_squared_error: 0.9741\n",
      "Epoch 28/70\n",
      "1/1 [==============================] - 0s 0s/step - loss: 0.9459 - root_mean_squared_error: 0.9726\n",
      "Epoch 29/70\n",
      "1/1 [==============================] - 0s 998us/step - loss: 0.9430 - root_mean_squared_error: 0.9711\n",
      "Epoch 30/70\n",
      "1/1 [==============================] - 0s 999us/step - loss: 0.9400 - root_mean_squared_error: 0.9695\n",
      "Epoch 31/70\n",
      "1/1 [==============================] - 0s 996us/step - loss: 0.9369 - root_mean_squared_error: 0.9680\n",
      "Epoch 32/70\n",
      "1/1 [==============================] - 0s 999us/step - loss: 0.9339 - root_mean_squared_error: 0.9664\n",
      "Epoch 33/70\n",
      "1/1 [==============================] - 0s 1000us/step - loss: 0.9309 - root_mean_squared_error: 0.9648\n",
      "Epoch 34/70\n",
      "1/1 [==============================] - 0s 995us/step - loss: 0.9279 - root_mean_squared_error: 0.9633\n",
      "Epoch 35/70\n",
      "1/1 [==============================] - 0s 1ms/step - loss: 0.9248 - root_mean_squared_error: 0.9617\n",
      "Epoch 36/70\n",
      "1/1 [==============================] - 0s 997us/step - loss: 0.9218 - root_mean_squared_error: 0.9601\n",
      "Epoch 37/70\n",
      "1/1 [==============================] - 0s 0s/step - loss: 0.9189 - root_mean_squared_error: 0.9586\n",
      "Epoch 38/70\n",
      "1/1 [==============================] - 0s 1ms/step - loss: 0.9160 - root_mean_squared_error: 0.9571\n",
      "Epoch 39/70\n",
      "1/1 [==============================] - 0s 999us/step - loss: 0.9131 - root_mean_squared_error: 0.9556\n",
      "Epoch 40/70\n",
      "1/1 [==============================] - 0s 0s/step - loss: 0.9103 - root_mean_squared_error: 0.9541\n",
      "Epoch 41/70\n",
      "1/1 [==============================] - 0s 1ms/step - loss: 0.9076 - root_mean_squared_error: 0.9527\n",
      "Epoch 42/70\n",
      "1/1 [==============================] - 0s 998us/step - loss: 0.9049 - root_mean_squared_error: 0.9513\n",
      "Epoch 43/70\n",
      "1/1 [==============================] - 0s 1ms/step - loss: 0.9023 - root_mean_squared_error: 0.9499\n",
      "Epoch 44/70\n",
      "1/1 [==============================] - 0s 1ms/step - loss: 0.8999 - root_mean_squared_error: 0.9486\n",
      "Epoch 45/70\n",
      "1/1 [==============================] - 0s 0s/step - loss: 0.8975 - root_mean_squared_error: 0.9474\n",
      "Epoch 46/70\n",
      "1/1 [==============================] - 0s 998us/step - loss: 0.8953 - root_mean_squared_error: 0.9462\n",
      "Epoch 47/70\n",
      "1/1 [==============================] - 0s 0s/step - loss: 0.8931 - root_mean_squared_error: 0.9451\n",
      "Epoch 48/70\n",
      "1/1 [==============================] - 0s 970us/step - loss: 0.8911 - root_mean_squared_error: 0.9440\n",
      "Epoch 49/70\n",
      "1/1 [==============================] - 0s 0s/step - loss: 0.8893 - root_mean_squared_error: 0.9430\n",
      "Epoch 50/70\n",
      "1/1 [==============================] - 0s 1ms/step - loss: 0.8875 - root_mean_squared_error: 0.9421\n",
      "Epoch 51/70\n",
      "1/1 [==============================] - 0s 966us/step - loss: 0.8859 - root_mean_squared_error: 0.9412\n",
      "Epoch 52/70\n",
      "1/1 [==============================] - 0s 1ms/step - loss: 0.8845 - root_mean_squared_error: 0.9405\n",
      "Epoch 53/70\n",
      "1/1 [==============================] - 0s 1ms/step - loss: 0.8831 - root_mean_squared_error: 0.9397\n",
      "Epoch 54/70\n",
      "1/1 [==============================] - 0s 998us/step - loss: 0.8819 - root_mean_squared_error: 0.9391\n",
      "Epoch 55/70\n",
      "1/1 [==============================] - 0s 998us/step - loss: 0.8809 - root_mean_squared_error: 0.9385\n",
      "Epoch 56/70\n",
      "1/1 [==============================] - 0s 1000us/step - loss: 0.8799 - root_mean_squared_error: 0.9380\n",
      "Epoch 57/70\n",
      "1/1 [==============================] - 0s 972us/step - loss: 0.8791 - root_mean_squared_error: 0.9376\n",
      "Epoch 58/70\n",
      "1/1 [==============================] - 0s 997us/step - loss: 0.8784 - root_mean_squared_error: 0.9372\n",
      "Epoch 59/70\n",
      "1/1 [==============================] - 0s 1000us/step - loss: 0.8779 - root_mean_squared_error: 0.9369\n",
      "Epoch 60/70\n",
      "1/1 [==============================] - 0s 0s/step - loss: 0.8787 - root_mean_squared_error: 0.9374\n",
      "Epoch 61/70\n",
      "1/1 [==============================] - 0s 998us/step - loss: 0.8953 - root_mean_squared_error: 0.9462\n",
      "Epoch 62/70\n",
      "1/1 [==============================] - 0s 996us/step - loss: 1.1229 - root_mean_squared_error: 1.0597\n",
      "Epoch 63/70\n",
      "1/1 [==============================] - 0s 999us/step - loss: 3.2092 - root_mean_squared_error: 1.7914\n",
      "Epoch 64/70\n",
      "1/1 [==============================] - 0s 1ms/step - loss: 3.6513 - root_mean_squared_error: 1.9109\n",
      "Epoch 65/70\n",
      "1/1 [==============================] - 0s 988us/step - loss: 1.7304 - root_mean_squared_error: 1.3154\n",
      "Epoch 66/70\n",
      "1/1 [==============================] - 0s 996us/step - loss: 1.1017 - root_mean_squared_error: 1.0496\n",
      "Epoch 67/70\n",
      "1/1 [==============================] - 0s 1ms/step - loss: 0.9474 - root_mean_squared_error: 0.9733\n",
      "Epoch 68/70\n",
      "1/1 [==============================] - 0s 0s/step - loss: 0.9047 - root_mean_squared_error: 0.9511\n",
      "Epoch 69/70\n",
      "1/1 [==============================] - 0s 962us/step - loss: 0.8906 - root_mean_squared_error: 0.9437\n",
      "Epoch 70/70\n",
      "1/1 [==============================] - 0s 997us/step - loss: 0.8854 - root_mean_squared_error: 0.9410\n"
     ]
    },
    {
     "name": "stderr",
     "output_type": "stream",
     "text": [
      "C:\\ProgramData\\Anaconda3\\lib\\site-packages\\numpy\\core\\_asarray.py:136: VisibleDeprecationWarning: Creating an ndarray from ragged nested sequences (which is a list-or-tuple of lists-or-tuples-or ndarrays with different lengths or shapes) is deprecated. If you meant to do this, you must specify 'dtype=object' when creating the ndarray\n",
      "  return array(a, dtype, copy=False, order=order, subok=True)\n"
     ]
    },
    {
     "data": {
      "image/png": "[encoded data removed]",
      "text/plain": [
       "<Figure size 432x288 with 1 Axes>"
      ]
     },
     "metadata": {
      "needs_background": "light"
     },
     "output_type": "display_data"
    },
    {
     "data": {
      "image/png": "[encoded data removed]",
      "text/plain": [
       "<Figure size 432x288 with 1 Axes>"
      ]
     },
     "metadata": {
      "needs_background": "light"
     },
     "output_type": "display_data"
    }
   ],
   "source": [
    "learning_rate=0.14\n",
    "epochs=70\n",
    "my_batch_size=12\n",
    "\n",
    "my_model = build_model(learning_rate)\n",
    "trained_weight, trained_bias, epochs, rmse = train_model(my_model, my_feature, \n",
    "                                                         my_label, epochs,\n",
    "                                                         my_batch_size)\n",
    "plot_the_model(trained_weight, trained_bias, my_feature, my_label)\n",
    "plot_the_loss_curve(epochs, rmse)"
   ]
  },
  {
   "cell_type": "code",
   "execution_count": 9,
   "id": "interim-ebony",
   "metadata": {},
   "outputs": [
    {
     "name": "stdout",
     "output_type": "stream",
     "text": [
      "Epoch 1/100\n",
      "12/12 [==============================] - 0s 672us/step - loss: 563.3236 - root_mean_squared_error: 23.7344\n",
      "Epoch 2/100\n",
      "12/12 [==============================] - 0s 0s/step - loss: 367.8399 - root_mean_squared_error: 19.1792\n",
      "Epoch 3/100\n",
      "12/12 [==============================] - 0s 1ms/step - loss: 248.0170 - root_mean_squared_error: 15.7486\n",
      "Epoch 4/100\n",
      "12/12 [==============================] - 0s 1ms/step - loss: 157.6695 - root_mean_squared_error: 12.5567\n",
      "Epoch 5/100\n",
      "12/12 [==============================] - 0s 1ms/step - loss: 93.2211 - root_mean_squared_error: 9.6551\n",
      "Epoch 6/100\n",
      "12/12 [==============================] - 0s 0s/step - loss: 45.5978 - root_mean_squared_error: 6.7526\n",
      "Epoch 7/100\n",
      "12/12 [==============================] - 0s 839us/step - loss: 16.5744 - root_mean_squared_error: 4.0712\n",
      "Epoch 8/100\n",
      "12/12 [==============================] - 0s 94us/step - loss: 4.6013 - root_mean_squared_error: 2.1451\n",
      "Epoch 9/100\n",
      "12/12 [==============================] - 0s 1ms/step - loss: 1.8272 - root_mean_squared_error: 1.3517\n",
      "Epoch 10/100\n",
      "12/12 [==============================] - 0s 98us/step - loss: 1.5383 - root_mean_squared_error: 1.2403\n",
      "Epoch 11/100\n",
      "12/12 [==============================] - 0s 0s/step - loss: 1.4473 - root_mean_squared_error: 1.2031\n",
      "Epoch 12/100\n",
      "12/12 [==============================] - 0s 0s/step - loss: 1.5530 - root_mean_squared_error: 1.2462\n",
      "Epoch 13/100\n",
      "12/12 [==============================] - 0s 0s/step - loss: 1.5153 - root_mean_squared_error: 1.2310\n",
      "Epoch 14/100\n",
      "12/12 [==============================] - 0s 0s/step - loss: 1.2032 - root_mean_squared_error: 1.0969\n",
      "Epoch 15/100\n",
      "12/12 [==============================] - 0s 0s/step - loss: 1.5070 - root_mean_squared_error: 1.2276\n",
      "Epoch 16/100\n",
      "12/12 [==============================] - 0s 0s/step - loss: 1.3426 - root_mean_squared_error: 1.1587\n",
      "Epoch 17/100\n",
      "12/12 [==============================] - 0s 0s/step - loss: 1.2084 - root_mean_squared_error: 1.0993\n",
      "Epoch 18/100\n",
      "12/12 [==============================] - 0s 0s/step - loss: 1.2464 - root_mean_squared_error: 1.1164\n",
      "Epoch 19/100\n",
      "12/12 [==============================] - 0s 0s/step - loss: 1.1587 - root_mean_squared_error: 1.0764\n",
      "Epoch 20/100\n",
      "12/12 [==============================] - 0s 0s/step - loss: 1.3825 - root_mean_squared_error: 1.1758\n",
      "Epoch 21/100\n",
      "12/12 [==============================] - 0s 0s/step - loss: 1.3416 - root_mean_squared_error: 1.1583\n",
      "Epoch 22/100\n",
      "12/12 [==============================] - 0s 0s/step - loss: 1.1647 - root_mean_squared_error: 1.0792\n",
      "Epoch 23/100\n",
      "12/12 [==============================] - 0s 0s/step - loss: 1.0433 - root_mean_squared_error: 1.0214\n",
      "Epoch 24/100\n",
      "12/12 [==============================] - 0s 0s/step - loss: 1.3544 - root_mean_squared_error: 1.1638\n",
      "Epoch 25/100\n",
      "12/12 [==============================] - 0s 0s/step - loss: 1.2336 - root_mean_squared_error: 1.1107\n",
      "Epoch 26/100\n",
      "12/12 [==============================] - 0s 0s/step - loss: 0.9870 - root_mean_squared_error: 0.9935\n",
      "Epoch 27/100\n",
      "12/12 [==============================] - 0s 0s/step - loss: 1.1022 - root_mean_squared_error: 1.0499\n",
      "Epoch 28/100\n",
      "12/12 [==============================] - 0s 0s/step - loss: 1.1446 - root_mean_squared_error: 1.0699\n",
      "Epoch 29/100\n",
      "12/12 [==============================] - 0s 0s/step - loss: 1.0390 - root_mean_squared_error: 1.0193\n",
      "Epoch 30/100\n",
      "12/12 [==============================] - 0s 0s/step - loss: 1.1870 - root_mean_squared_error: 1.0895\n",
      "Epoch 31/100\n",
      "12/12 [==============================] - 0s 0s/step - loss: 1.2545 - root_mean_squared_error: 1.1201\n",
      "Epoch 32/100\n",
      "12/12 [==============================] - 0s 473us/step - loss: 1.2283 - root_mean_squared_error: 1.1083\n",
      "Epoch 33/100\n",
      "12/12 [==============================] - 0s 1ms/step - loss: 1.0606 - root_mean_squared_error: 1.0299\n",
      "Epoch 34/100\n",
      "12/12 [==============================] - 0s 1ms/step - loss: 1.2358 - root_mean_squared_error: 1.1117\n",
      "Epoch 35/100\n",
      "12/12 [==============================] - 0s 2ms/step - loss: 1.2295 - root_mean_squared_error: 1.1088\n",
      "Epoch 36/100\n",
      "12/12 [==============================] - 0s 1ms/step - loss: 1.0294 - root_mean_squared_error: 1.0146\n",
      "Epoch 37/100\n",
      "12/12 [==============================] - 0s 1ms/step - loss: 1.2870 - root_mean_squared_error: 1.1345\n",
      "Epoch 38/100\n",
      "12/12 [==============================] - 0s 0s/step - loss: 1.1366 - root_mean_squared_error: 1.0661\n",
      "Epoch 39/100\n",
      "12/12 [==============================] - 0s 537us/step - loss: 1.1170 - root_mean_squared_error: 1.0569\n",
      "Epoch 40/100\n",
      "12/12 [==============================] - 0s 0s/step - loss: 0.9387 - root_mean_squared_error: 0.9689\n",
      "Epoch 41/100\n",
      "12/12 [==============================] - 0s 0s/step - loss: 1.2403 - root_mean_squared_error: 1.1137\n",
      "Epoch 42/100\n",
      "12/12 [==============================] - 0s 0s/step - loss: 1.1613 - root_mean_squared_error: 1.0776\n",
      "Epoch 43/100\n",
      "12/12 [==============================] - 0s 1ms/step - loss: 1.1752 - root_mean_squared_error: 1.0841\n",
      "Epoch 44/100\n",
      "12/12 [==============================] - 0s 0s/step - loss: 1.2116 - root_mean_squared_error: 1.1007\n",
      "Epoch 45/100\n",
      "12/12 [==============================] - 0s 0s/step - loss: 1.2014 - root_mean_squared_error: 1.0961\n",
      "Epoch 46/100\n",
      "12/12 [==============================] - 0s 0s/step - loss: 1.1865 - root_mean_squared_error: 1.0893\n",
      "Epoch 47/100\n",
      "12/12 [==============================] - 0s 0s/step - loss: 1.2227 - root_mean_squared_error: 1.1058\n",
      "Epoch 48/100\n",
      "12/12 [==============================] - 0s 0s/step - loss: 1.1712 - root_mean_squared_error: 1.0822\n",
      "Epoch 49/100\n",
      "12/12 [==============================] - 0s 0s/step - loss: 1.1308 - root_mean_squared_error: 1.0634\n",
      "Epoch 50/100\n",
      "12/12 [==============================] - 0s 0s/step - loss: 1.1222 - root_mean_squared_error: 1.0593\n",
      "Epoch 51/100\n",
      "12/12 [==============================] - 0s 0s/step - loss: 1.1069 - root_mean_squared_error: 1.0521\n",
      "Epoch 52/100\n",
      "12/12 [==============================] - 0s 0s/step - loss: 1.0681 - root_mean_squared_error: 1.0335\n",
      "Epoch 53/100\n",
      "12/12 [==============================] - 0s 0s/step - loss: 1.1653 - root_mean_squared_error: 1.0795\n",
      "Epoch 54/100\n",
      "12/12 [==============================] - 0s 0s/step - loss: 1.2694 - root_mean_squared_error: 1.1267\n",
      "Epoch 55/100\n",
      "12/12 [==============================] - 0s 591us/step - loss: 1.1160 - root_mean_squared_error: 1.0564\n",
      "Epoch 56/100\n",
      "12/12 [==============================] - 0s 156us/step - loss: 1.2211 - root_mean_squared_error: 1.1050\n",
      "Epoch 57/100\n",
      "12/12 [==============================] - 0s 0s/step - loss: 1.1411 - root_mean_squared_error: 1.0682\n",
      "Epoch 58/100\n",
      "12/12 [==============================] - 0s 0s/step - loss: 1.1467 - root_mean_squared_error: 1.0708\n",
      "Epoch 59/100\n",
      "12/12 [==============================] - 0s 0s/step - loss: 1.1671 - root_mean_squared_error: 1.0803\n",
      "Epoch 60/100\n",
      "12/12 [==============================] - 0s 0s/step - loss: 1.0040 - root_mean_squared_error: 1.0020\n",
      "Epoch 61/100\n",
      "12/12 [==============================] - 0s 0s/step - loss: 0.8003 - root_mean_squared_error: 0.8946\n",
      "Epoch 62/100\n",
      "12/12 [==============================] - 0s 0s/step - loss: 1.2751 - root_mean_squared_error: 1.1292\n",
      "Epoch 63/100\n",
      "12/12 [==============================] - 0s 0s/step - loss: 1.0746 - root_mean_squared_error: 1.0366\n",
      "Epoch 64/100\n",
      "12/12 [==============================] - 0s 0s/step - loss: 1.0846 - root_mean_squared_error: 1.0414\n",
      "Epoch 65/100\n",
      "12/12 [==============================] - 0s 0s/step - loss: 0.9475 - root_mean_squared_error: 0.9734\n",
      "Epoch 66/100\n",
      "12/12 [==============================] - 0s 0s/step - loss: 1.3594 - root_mean_squared_error: 1.1659\n",
      "Epoch 67/100\n",
      "12/12 [==============================] - 0s 0s/step - loss: 1.0501 - root_mean_squared_error: 1.0247\n",
      "Epoch 68/100\n",
      "12/12 [==============================] - 0s 0s/step - loss: 1.1165 - root_mean_squared_error: 1.0567\n",
      "Epoch 69/100\n",
      "12/12 [==============================] - 0s 0s/step - loss: 1.1191 - root_mean_squared_error: 1.0579\n",
      "Epoch 70/100\n",
      "12/12 [==============================] - 0s 0s/step - loss: 1.1458 - root_mean_squared_error: 1.0704\n",
      "Epoch 71/100\n",
      "12/12 [==============================] - 0s 0s/step - loss: 1.3194 - root_mean_squared_error: 1.1487\n",
      "Epoch 72/100\n"
     ]
    },
    {
     "name": "stdout",
     "output_type": "stream",
     "text": [
      "12/12 [==============================] - 0s 0s/step - loss: 1.1796 - root_mean_squared_error: 1.0861\n",
      "Epoch 73/100\n",
      "12/12 [==============================] - 0s 1ms/step - loss: 1.0243 - root_mean_squared_error: 1.0121\n",
      "Epoch 74/100\n",
      "12/12 [==============================] - 0s 1ms/step - loss: 1.1965 - root_mean_squared_error: 1.0939\n",
      "Epoch 75/100\n",
      "12/12 [==============================] - ETA: 0s - loss: 2.1255 - root_mean_squared_error: 1.457 - 0s 1ms/step - loss: 1.2529 - root_mean_squared_error: 1.1194\n",
      "Epoch 76/100\n",
      "12/12 [==============================] - 0s 0s/step - loss: 1.1193 - root_mean_squared_error: 1.0580\n",
      "Epoch 77/100\n",
      "12/12 [==============================] - 0s 0s/step - loss: 1.1490 - root_mean_squared_error: 1.0719\n",
      "Epoch 78/100\n",
      "12/12 [==============================] - 0s 0s/step - loss: 0.9463 - root_mean_squared_error: 0.9728\n",
      "Epoch 79/100\n",
      "12/12 [==============================] - 0s 0s/step - loss: 1.2552 - root_mean_squared_error: 1.1204\n",
      "Epoch 80/100\n",
      "12/12 [==============================] - 0s 0s/step - loss: 1.1761 - root_mean_squared_error: 1.0845\n",
      "Epoch 81/100\n",
      "12/12 [==============================] - 0s 0s/step - loss: 0.9374 - root_mean_squared_error: 0.9682\n",
      "Epoch 82/100\n",
      "12/12 [==============================] - 0s 542us/step - loss: 1.2512 - root_mean_squared_error: 1.1186\n",
      "Epoch 83/100\n",
      "12/12 [==============================] - 0s 0s/step - loss: 1.1833 - root_mean_squared_error: 1.0878\n",
      "Epoch 84/100\n",
      "12/12 [==============================] - 0s 0s/step - loss: 1.1159 - root_mean_squared_error: 1.0563\n",
      "Epoch 85/100\n",
      "12/12 [==============================] - 0s 0s/step - loss: 1.2220 - root_mean_squared_error: 1.1054\n",
      "Epoch 86/100\n",
      "12/12 [==============================] - 0s 454us/step - loss: 1.1394 - root_mean_squared_error: 1.0674\n",
      "Epoch 87/100\n",
      "12/12 [==============================] - 0s 502us/step - loss: 1.1174 - root_mean_squared_error: 1.0571\n",
      "Epoch 88/100\n",
      "12/12 [==============================] - 0s 1ms/step - loss: 1.2086 - root_mean_squared_error: 1.0993\n",
      "Epoch 89/100\n",
      "12/12 [==============================] - 0s 1ms/step - loss: 1.0311 - root_mean_squared_error: 1.0154\n",
      "Epoch 90/100\n",
      "12/12 [==============================] - 0s 1ms/step - loss: 1.3266 - root_mean_squared_error: 1.1518\n",
      "Epoch 91/100\n",
      "12/12 [==============================] - 0s 0s/step - loss: 0.9436 - root_mean_squared_error: 0.9714\n",
      "Epoch 92/100\n",
      "12/12 [==============================] - 0s 0s/step - loss: 1.3170 - root_mean_squared_error: 1.1476\n",
      "Epoch 93/100\n",
      "12/12 [==============================] - 0s 1ms/step - loss: 1.1486 - root_mean_squared_error: 1.0717\n",
      "Epoch 94/100\n",
      "12/12 [==============================] - 0s 2ms/step - loss: 1.0594 - root_mean_squared_error: 1.0293\n",
      "Epoch 95/100\n",
      "12/12 [==============================] - 0s 417us/step - loss: 1.3055 - root_mean_squared_error: 1.1426\n",
      "Epoch 96/100\n",
      "12/12 [==============================] - 0s 416us/step - loss: 1.1936 - root_mean_squared_error: 1.0925\n",
      "Epoch 97/100\n",
      "12/12 [==============================] - 0s 0s/step - loss: 1.0862 - root_mean_squared_error: 1.0422\n",
      "Epoch 98/100\n",
      "12/12 [==============================] - 0s 0s/step - loss: 1.2429 - root_mean_squared_error: 1.1149\n",
      "Epoch 99/100\n",
      "12/12 [==============================] - 0s 0s/step - loss: 1.2664 - root_mean_squared_error: 1.1254\n",
      "Epoch 100/100\n",
      "12/12 [==============================] - 0s 0s/step - loss: 1.2141 - root_mean_squared_error: 1.1018\n"
     ]
    },
    {
     "name": "stderr",
     "output_type": "stream",
     "text": [
      "C:\\ProgramData\\Anaconda3\\lib\\site-packages\\numpy\\core\\_asarray.py:136: VisibleDeprecationWarning: Creating an ndarray from ragged nested sequences (which is a list-or-tuple of lists-or-tuples-or ndarrays with different lengths or shapes) is deprecated. If you meant to do this, you must specify 'dtype=object' when creating the ndarray\n",
      "  return array(a, dtype, copy=False, order=order, subok=True)\n"
     ]
    },
    {
     "data": {
      "image/png": "[encoded data removed]",
      "text/plain": [
       "<Figure size 432x288 with 1 Axes>"
      ]
     },
     "metadata": {
      "needs_background": "light"
     },
     "output_type": "display_data"
    },
    {
     "data": {
      "image/png": "[encoded data removed]",
      "text/plain": [
       "<Figure size 432x288 with 1 Axes>"
      ]
     },
     "metadata": {
      "needs_background": "light"
     },
     "output_type": "display_data"
    }
   ],
   "source": [
    "learning_rate=0.05\n",
    "epochs=100\n",
    "my_batch_size= 1  # Replace ? with an integer.\n",
    "\n",
    "my_model = build_model(learning_rate)\n",
    "trained_weight, trained_bias, epochs, rmse = train_model(my_model, my_feature, \n",
    "                                                        my_label, epochs,\n",
    "                                                        my_batch_size)\n",
    "plot_the_model(trained_weight, trained_bias, my_feature, my_label)\n",
    "plot_the_loss_curve(epochs, rmse)"
   ]
  },
  {
   "cell_type": "code",
   "execution_count": null,
   "id": "biblical-nothing",
   "metadata": {},
   "outputs": [],
   "source": []
  }
 ],
 "metadata": {
  "kernelspec": {
   "display_name": "Python 3",
   "language": "python",
   "name": "python3"
  },
  "language_info": {
   "codemirror_mode": {
    "name": "ipython",
    "version": 3
   },
   "file_extension": ".py",
   "mimetype": "text/x-python",
   "name": "python",
   "nbconvert_exporter": "python",
   "pygments_lexer": "ipython3",
   "version": "3.8.8"
  }
 },
 "nbformat": 4,
 "nbformat_minor": 5
}
