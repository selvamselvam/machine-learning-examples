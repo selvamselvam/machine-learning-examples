{
 "cells": [
  {
   "cell_type": "code",
   "execution_count": 1,
   "id": "recovered-fence",
   "metadata": {},
   "outputs": [],
   "source": [
    "import numpy as np"
   ]
  },
  {
   "cell_type": "code",
   "execution_count": 2,
   "id": "stupid-maximum",
   "metadata": {},
   "outputs": [
    {
     "data": {
      "text/plain": [
       "array([  0,   1,   2,   3,   4,   5,   6,   7,   8,   9,  10,  11,  12,\n",
       "        13,  14,  15,  16,  17,  18,  19,  20,  21,  22,  23,  24,  25,\n",
       "        26,  27,  28,  29,  30,  31,  32,  33,  34,  35,  36,  37,  38,\n",
       "        39,  40,  41,  42,  43,  44,  45,  46,  47,  48,  49,  50,  51,\n",
       "        52,  53,  54,  55,  56,  57,  58,  59,  60,  61,  62,  63,  64,\n",
       "        65,  66,  67,  68,  69,  70,  71,  72,  73,  74,  75,  76,  77,\n",
       "        78,  79,  80,  81,  82,  83,  84,  85,  86,  87,  88,  89,  90,\n",
       "        91,  92,  93,  94,  95,  96,  97,  98,  99, 100, 101, 102, 103,\n",
       "       104, 105, 106, 107, 108, 109, 110, 111, 112, 113, 114, 115, 116,\n",
       "       117, 118, 119, 120, 121, 122, 123, 124, 125, 126, 127, 128, 129,\n",
       "       130, 131, 132, 133, 134, 135, 136, 137, 138, 139, 140, 141, 142,\n",
       "       143, 144, 145, 146, 147, 148, 149, 150, 151, 152, 153, 154, 155,\n",
       "       156, 157, 158, 159, 160, 161, 162, 163, 164, 165, 166, 167, 168,\n",
       "       169, 170, 171, 172, 173, 174, 175, 176, 177, 178, 179, 180, 181,\n",
       "       182, 183, 184, 185, 186, 187, 188, 189, 190, 191, 192, 193, 194,\n",
       "       195, 196, 197, 198, 199, 200, 201, 202, 203, 204, 205, 206, 207,\n",
       "       208, 209, 210, 211, 212, 213, 214, 215, 216, 217, 218, 219, 220,\n",
       "       221, 222, 223, 224, 225, 226, 227, 228, 229, 230, 231, 232, 233,\n",
       "       234, 235, 236, 237, 238, 239, 240, 241, 242, 243, 244, 245, 246,\n",
       "       247, 248, 249, 250, 251, 252, 253, 254, 255, 256, 257, 258, 259,\n",
       "       260, 261, 262, 263, 264, 265, 266, 267, 268, 269, 270, 271, 272,\n",
       "       273, 274, 275, 276, 277, 278, 279, 280, 281, 282, 283, 284, 285,\n",
       "       286, 287, 288, 289, 290, 291, 292, 293, 294, 295, 296, 297, 298,\n",
       "       299, 300, 301, 302, 303, 304, 305, 306, 307, 308, 309, 310, 311,\n",
       "       312, 313, 314, 315, 316, 317, 318, 319, 320, 321, 322, 323, 324,\n",
       "       325, 326, 327, 328, 329, 330, 331, 332, 333, 334, 335, 336, 337,\n",
       "       338, 339, 340, 341, 342, 343, 344, 345, 346, 347, 348, 349, 350,\n",
       "       351, 352, 353, 354, 355, 356, 357, 358, 359, 360, 361, 362, 363,\n",
       "       364, 365, 366, 367, 368, 369, 370, 371, 372, 373, 374, 375, 376,\n",
       "       377, 378, 379, 380, 381, 382, 383, 384, 385, 386, 387, 388, 389,\n",
       "       390, 391, 392, 393, 394, 395, 396, 397, 398, 399, 400, 401, 402,\n",
       "       403, 404, 405, 406, 407, 408, 409, 410, 411, 412, 413, 414, 415,\n",
       "       416, 417, 418, 419, 420, 421, 422, 423, 424, 425, 426, 427, 428,\n",
       "       429, 430, 431, 432, 433, 434, 435, 436, 437, 438, 439, 440, 441,\n",
       "       442, 443, 444, 445, 446, 447, 448, 449, 450, 451, 452, 453, 454,\n",
       "       455, 456, 457, 458, 459, 460, 461, 462, 463, 464, 465, 466, 467,\n",
       "       468, 469, 470, 471, 472, 473, 474, 475, 476, 477, 478, 479, 480,\n",
       "       481, 482, 483, 484, 485, 486, 487, 488, 489, 490, 491, 492, 493,\n",
       "       494, 495, 496, 497, 498, 499, 500, 501, 502, 503, 504, 505, 506,\n",
       "       507, 508, 509, 510, 511, 512, 513, 514, 515, 516, 517, 518, 519,\n",
       "       520, 521, 522, 523, 524, 525, 526, 527, 528, 529, 530, 531, 532,\n",
       "       533, 534, 535, 536, 537, 538, 539, 540, 541, 542, 543, 544, 545,\n",
       "       546, 547, 548, 549, 550, 551, 552, 553, 554, 555, 556, 557, 558,\n",
       "       559, 560, 561, 562, 563, 564, 565, 566, 567, 568, 569, 570, 571,\n",
       "       572, 573, 574, 575, 576, 577, 578, 579, 580, 581, 582, 583, 584,\n",
       "       585, 586, 587, 588, 589, 590, 591, 592, 593, 594, 595, 596, 597,\n",
       "       598, 599, 600, 601, 602, 603, 604, 605, 606, 607, 608, 609, 610,\n",
       "       611, 612, 613, 614, 615, 616, 617, 618, 619, 620, 621, 622, 623,\n",
       "       624, 625, 626, 627, 628, 629, 630, 631, 632, 633, 634, 635, 636,\n",
       "       637, 638, 639, 640, 641, 642, 643, 644, 645, 646, 647, 648, 649,\n",
       "       650, 651, 652, 653, 654, 655, 656, 657, 658, 659, 660, 661, 662,\n",
       "       663, 664, 665, 666, 667, 668, 669, 670, 671, 672, 673, 674, 675,\n",
       "       676, 677, 678, 679, 680, 681, 682, 683, 684, 685, 686, 687, 688,\n",
       "       689, 690, 691, 692, 693, 694, 695, 696, 697, 698, 699, 700, 701,\n",
       "       702, 703, 704, 705, 706, 707, 708, 709, 710, 711, 712, 713, 714,\n",
       "       715, 716, 717, 718, 719, 720, 721, 722, 723, 724, 725, 726, 727,\n",
       "       728, 729, 730, 731, 732, 733, 734, 735, 736, 737, 738, 739, 740,\n",
       "       741, 742, 743, 744, 745, 746, 747, 748, 749, 750, 751, 752, 753,\n",
       "       754, 755, 756, 757, 758, 759, 760, 761, 762, 763, 764, 765, 766,\n",
       "       767, 768, 769, 770, 771, 772, 773, 774, 775, 776, 777, 778, 779,\n",
       "       780, 781, 782, 783, 784, 785, 786, 787, 788, 789, 790, 791, 792,\n",
       "       793, 794, 795, 796, 797, 798, 799, 800, 801, 802, 803, 804, 805,\n",
       "       806, 807, 808, 809, 810, 811, 812, 813, 814, 815, 816, 817, 818,\n",
       "       819, 820, 821, 822, 823, 824, 825, 826, 827, 828, 829, 830, 831,\n",
       "       832, 833, 834, 835, 836, 837, 838, 839, 840, 841, 842, 843, 844,\n",
       "       845, 846, 847, 848, 849, 850, 851, 852, 853, 854, 855, 856, 857,\n",
       "       858, 859, 860, 861, 862, 863, 864, 865, 866, 867, 868, 869, 870,\n",
       "       871, 872, 873, 874, 875, 876, 877, 878, 879, 880, 881, 882, 883,\n",
       "       884, 885, 886, 887, 888, 889, 890, 891, 892, 893, 894, 895, 896,\n",
       "       897, 898, 899, 900, 901, 902, 903, 904, 905, 906, 907, 908, 909,\n",
       "       910, 911, 912, 913, 914, 915, 916, 917, 918, 919, 920, 921, 922,\n",
       "       923, 924, 925, 926, 927, 928, 929, 930, 931, 932, 933, 934, 935,\n",
       "       936, 937, 938, 939, 940, 941, 942, 943, 944, 945, 946, 947, 948,\n",
       "       949, 950, 951, 952, 953, 954, 955, 956, 957, 958, 959, 960, 961,\n",
       "       962, 963, 964, 965, 966, 967, 968, 969, 970, 971, 972, 973, 974,\n",
       "       975, 976, 977, 978, 979, 980, 981, 982, 983, 984, 985, 986, 987,\n",
       "       988, 989, 990, 991, 992, 993, 994, 995, 996, 997, 998, 999])"
      ]
     },
     "execution_count": 2,
     "metadata": {},
     "output_type": "execute_result"
    }
   ],
   "source": [
    "arr = np.arange(1000)\n",
    "arr"
   ]
  },
  {
   "cell_type": "code",
   "execution_count": 3,
   "id": "parental-nothing",
   "metadata": {},
   "outputs": [],
   "source": [
    "list = list(range(10))"
   ]
  },
  {
   "cell_type": "code",
   "execution_count": 4,
   "id": "liable-telling",
   "metadata": {},
   "outputs": [
    {
     "data": {
      "text/plain": [
       "[0, 1, 2, 3, 4, 5, 6, 7, 8, 9]"
      ]
     },
     "execution_count": 4,
     "metadata": {},
     "output_type": "execute_result"
    }
   ],
   "source": [
    "list"
   ]
  },
  {
   "cell_type": "code",
   "execution_count": 8,
   "id": "improving-magazine",
   "metadata": {},
   "outputs": [
    {
     "data": {
      "text/plain": [
       "array([[ 0.39455235, -1.85747841, -0.01795165],\n",
       "       [ 0.38908198, -2.25619392,  0.43564504]])"
      ]
     },
     "execution_count": 8,
     "metadata": {},
     "output_type": "execute_result"
    }
   ],
   "source": [
    "r = np.random.randn(2,3)\n",
    "r"
   ]
  },
  {
   "cell_type": "code",
   "execution_count": 9,
   "id": "qualified-parliament",
   "metadata": {},
   "outputs": [
    {
     "data": {
      "text/plain": [
       "array([[1.55671556e-01, 3.45022604e+00, 3.22261898e-04],\n",
       "       [1.51384785e-01, 5.09041099e+00, 1.89786601e-01]])"
      ]
     },
     "execution_count": 9,
     "metadata": {},
     "output_type": "execute_result"
    }
   ],
   "source": [
    "r * r"
   ]
  },
  {
   "cell_type": "code",
   "execution_count": 10,
   "id": "deluxe-experience",
   "metadata": {},
   "outputs": [
    {
     "ename": "TypeError",
     "evalue": "can't multiply sequence by non-int of type 'list'",
     "output_type": "error",
     "traceback": [
      "\u001b[1;31m---------------------------------------------------------------------------\u001b[0m",
      "\u001b[1;31mTypeError\u001b[0m                                 Traceback (most recent call last)",
      "\u001b[1;32m<ipython-input-10-d4ffa919c131>\u001b[0m in \u001b[0;36m<module>\u001b[1;34m\u001b[0m\n\u001b[1;32m----> 1\u001b[1;33m \u001b[0mlist\u001b[0m \u001b[1;33m*\u001b[0m \u001b[0mlist\u001b[0m\u001b[1;33m\u001b[0m\u001b[1;33m\u001b[0m\u001b[0m\n\u001b[0m",
      "\u001b[1;31mTypeError\u001b[0m: can't multiply sequence by non-int of type 'list'"
     ]
    }
   ],
   "source": [
    "list * list"
   ]
  },
  {
   "cell_type": "code",
   "execution_count": 11,
   "id": "essential-increase",
   "metadata": {},
   "outputs": [],
   "source": [
    "arr = arr + 10"
   ]
  },
  {
   "cell_type": "code",
   "execution_count": 12,
   "id": "entertaining-lloyd",
   "metadata": {},
   "outputs": [
    {
     "data": {
      "text/plain": [
       "array([  10,   11,   12,   13,   14,   15,   16,   17,   18,   19,   20,\n",
       "         21,   22,   23,   24,   25,   26,   27,   28,   29,   30,   31,\n",
       "         32,   33,   34,   35,   36,   37,   38,   39,   40,   41,   42,\n",
       "         43,   44,   45,   46,   47,   48,   49,   50,   51,   52,   53,\n",
       "         54,   55,   56,   57,   58,   59,   60,   61,   62,   63,   64,\n",
       "         65,   66,   67,   68,   69,   70,   71,   72,   73,   74,   75,\n",
       "         76,   77,   78,   79,   80,   81,   82,   83,   84,   85,   86,\n",
       "         87,   88,   89,   90,   91,   92,   93,   94,   95,   96,   97,\n",
       "         98,   99,  100,  101,  102,  103,  104,  105,  106,  107,  108,\n",
       "        109,  110,  111,  112,  113,  114,  115,  116,  117,  118,  119,\n",
       "        120,  121,  122,  123,  124,  125,  126,  127,  128,  129,  130,\n",
       "        131,  132,  133,  134,  135,  136,  137,  138,  139,  140,  141,\n",
       "        142,  143,  144,  145,  146,  147,  148,  149,  150,  151,  152,\n",
       "        153,  154,  155,  156,  157,  158,  159,  160,  161,  162,  163,\n",
       "        164,  165,  166,  167,  168,  169,  170,  171,  172,  173,  174,\n",
       "        175,  176,  177,  178,  179,  180,  181,  182,  183,  184,  185,\n",
       "        186,  187,  188,  189,  190,  191,  192,  193,  194,  195,  196,\n",
       "        197,  198,  199,  200,  201,  202,  203,  204,  205,  206,  207,\n",
       "        208,  209,  210,  211,  212,  213,  214,  215,  216,  217,  218,\n",
       "        219,  220,  221,  222,  223,  224,  225,  226,  227,  228,  229,\n",
       "        230,  231,  232,  233,  234,  235,  236,  237,  238,  239,  240,\n",
       "        241,  242,  243,  244,  245,  246,  247,  248,  249,  250,  251,\n",
       "        252,  253,  254,  255,  256,  257,  258,  259,  260,  261,  262,\n",
       "        263,  264,  265,  266,  267,  268,  269,  270,  271,  272,  273,\n",
       "        274,  275,  276,  277,  278,  279,  280,  281,  282,  283,  284,\n",
       "        285,  286,  287,  288,  289,  290,  291,  292,  293,  294,  295,\n",
       "        296,  297,  298,  299,  300,  301,  302,  303,  304,  305,  306,\n",
       "        307,  308,  309,  310,  311,  312,  313,  314,  315,  316,  317,\n",
       "        318,  319,  320,  321,  322,  323,  324,  325,  326,  327,  328,\n",
       "        329,  330,  331,  332,  333,  334,  335,  336,  337,  338,  339,\n",
       "        340,  341,  342,  343,  344,  345,  346,  347,  348,  349,  350,\n",
       "        351,  352,  353,  354,  355,  356,  357,  358,  359,  360,  361,\n",
       "        362,  363,  364,  365,  366,  367,  368,  369,  370,  371,  372,\n",
       "        373,  374,  375,  376,  377,  378,  379,  380,  381,  382,  383,\n",
       "        384,  385,  386,  387,  388,  389,  390,  391,  392,  393,  394,\n",
       "        395,  396,  397,  398,  399,  400,  401,  402,  403,  404,  405,\n",
       "        406,  407,  408,  409,  410,  411,  412,  413,  414,  415,  416,\n",
       "        417,  418,  419,  420,  421,  422,  423,  424,  425,  426,  427,\n",
       "        428,  429,  430,  431,  432,  433,  434,  435,  436,  437,  438,\n",
       "        439,  440,  441,  442,  443,  444,  445,  446,  447,  448,  449,\n",
       "        450,  451,  452,  453,  454,  455,  456,  457,  458,  459,  460,\n",
       "        461,  462,  463,  464,  465,  466,  467,  468,  469,  470,  471,\n",
       "        472,  473,  474,  475,  476,  477,  478,  479,  480,  481,  482,\n",
       "        483,  484,  485,  486,  487,  488,  489,  490,  491,  492,  493,\n",
       "        494,  495,  496,  497,  498,  499,  500,  501,  502,  503,  504,\n",
       "        505,  506,  507,  508,  509,  510,  511,  512,  513,  514,  515,\n",
       "        516,  517,  518,  519,  520,  521,  522,  523,  524,  525,  526,\n",
       "        527,  528,  529,  530,  531,  532,  533,  534,  535,  536,  537,\n",
       "        538,  539,  540,  541,  542,  543,  544,  545,  546,  547,  548,\n",
       "        549,  550,  551,  552,  553,  554,  555,  556,  557,  558,  559,\n",
       "        560,  561,  562,  563,  564,  565,  566,  567,  568,  569,  570,\n",
       "        571,  572,  573,  574,  575,  576,  577,  578,  579,  580,  581,\n",
       "        582,  583,  584,  585,  586,  587,  588,  589,  590,  591,  592,\n",
       "        593,  594,  595,  596,  597,  598,  599,  600,  601,  602,  603,\n",
       "        604,  605,  606,  607,  608,  609,  610,  611,  612,  613,  614,\n",
       "        615,  616,  617,  618,  619,  620,  621,  622,  623,  624,  625,\n",
       "        626,  627,  628,  629,  630,  631,  632,  633,  634,  635,  636,\n",
       "        637,  638,  639,  640,  641,  642,  643,  644,  645,  646,  647,\n",
       "        648,  649,  650,  651,  652,  653,  654,  655,  656,  657,  658,\n",
       "        659,  660,  661,  662,  663,  664,  665,  666,  667,  668,  669,\n",
       "        670,  671,  672,  673,  674,  675,  676,  677,  678,  679,  680,\n",
       "        681,  682,  683,  684,  685,  686,  687,  688,  689,  690,  691,\n",
       "        692,  693,  694,  695,  696,  697,  698,  699,  700,  701,  702,\n",
       "        703,  704,  705,  706,  707,  708,  709,  710,  711,  712,  713,\n",
       "        714,  715,  716,  717,  718,  719,  720,  721,  722,  723,  724,\n",
       "        725,  726,  727,  728,  729,  730,  731,  732,  733,  734,  735,\n",
       "        736,  737,  738,  739,  740,  741,  742,  743,  744,  745,  746,\n",
       "        747,  748,  749,  750,  751,  752,  753,  754,  755,  756,  757,\n",
       "        758,  759,  760,  761,  762,  763,  764,  765,  766,  767,  768,\n",
       "        769,  770,  771,  772,  773,  774,  775,  776,  777,  778,  779,\n",
       "        780,  781,  782,  783,  784,  785,  786,  787,  788,  789,  790,\n",
       "        791,  792,  793,  794,  795,  796,  797,  798,  799,  800,  801,\n",
       "        802,  803,  804,  805,  806,  807,  808,  809,  810,  811,  812,\n",
       "        813,  814,  815,  816,  817,  818,  819,  820,  821,  822,  823,\n",
       "        824,  825,  826,  827,  828,  829,  830,  831,  832,  833,  834,\n",
       "        835,  836,  837,  838,  839,  840,  841,  842,  843,  844,  845,\n",
       "        846,  847,  848,  849,  850,  851,  852,  853,  854,  855,  856,\n",
       "        857,  858,  859,  860,  861,  862,  863,  864,  865,  866,  867,\n",
       "        868,  869,  870,  871,  872,  873,  874,  875,  876,  877,  878,\n",
       "        879,  880,  881,  882,  883,  884,  885,  886,  887,  888,  889,\n",
       "        890,  891,  892,  893,  894,  895,  896,  897,  898,  899,  900,\n",
       "        901,  902,  903,  904,  905,  906,  907,  908,  909,  910,  911,\n",
       "        912,  913,  914,  915,  916,  917,  918,  919,  920,  921,  922,\n",
       "        923,  924,  925,  926,  927,  928,  929,  930,  931,  932,  933,\n",
       "        934,  935,  936,  937,  938,  939,  940,  941,  942,  943,  944,\n",
       "        945,  946,  947,  948,  949,  950,  951,  952,  953,  954,  955,\n",
       "        956,  957,  958,  959,  960,  961,  962,  963,  964,  965,  966,\n",
       "        967,  968,  969,  970,  971,  972,  973,  974,  975,  976,  977,\n",
       "        978,  979,  980,  981,  982,  983,  984,  985,  986,  987,  988,\n",
       "        989,  990,  991,  992,  993,  994,  995,  996,  997,  998,  999,\n",
       "       1000, 1001, 1002, 1003, 1004, 1005, 1006, 1007, 1008, 1009])"
      ]
     },
     "execution_count": 12,
     "metadata": {},
     "output_type": "execute_result"
    }
   ],
   "source": [
    "arr"
   ]
  },
  {
   "cell_type": "code",
   "execution_count": 14,
   "id": "electric-teaching",
   "metadata": {},
   "outputs": [
    {
     "data": {
      "text/plain": [
       "(2, 3)"
      ]
     },
     "execution_count": 14,
     "metadata": {},
     "output_type": "execute_result"
    }
   ],
   "source": [
    "r.shape"
   ]
  },
  {
   "cell_type": "code",
   "execution_count": 15,
   "id": "native-paper",
   "metadata": {},
   "outputs": [],
   "source": [
    "data1 = [1,2,3,4,5]\n",
    "arr1 = np.array(data1)"
   ]
  },
  {
   "cell_type": "code",
   "execution_count": 16,
   "id": "hybrid-appendix",
   "metadata": {},
   "outputs": [
    {
     "data": {
      "text/plain": [
       "array([1, 2, 3, 4, 5])"
      ]
     },
     "execution_count": 16,
     "metadata": {},
     "output_type": "execute_result"
    }
   ],
   "source": [
    "arr1"
   ]
  },
  {
   "cell_type": "code",
   "execution_count": 17,
   "id": "massive-baking",
   "metadata": {},
   "outputs": [],
   "source": [
    "data2 = [[1, 2, 3, 4], [5, 6, 7, 8]]"
   ]
  },
  {
   "cell_type": "code",
   "execution_count": 18,
   "id": "signal-parish",
   "metadata": {},
   "outputs": [],
   "source": [
    "arr2 = np.array(data2)"
   ]
  },
  {
   "cell_type": "code",
   "execution_count": 19,
   "id": "neural-curve",
   "metadata": {},
   "outputs": [
    {
     "data": {
      "text/plain": [
       "array([[1, 2, 3, 4],\n",
       "       [5, 6, 7, 8]])"
      ]
     },
     "execution_count": 19,
     "metadata": {},
     "output_type": "execute_result"
    }
   ],
   "source": [
    "arr2"
   ]
  },
  {
   "cell_type": "code",
   "execution_count": 20,
   "id": "difficult-elevation",
   "metadata": {},
   "outputs": [
    {
     "data": {
      "text/plain": [
       "array([0., 0., 0., 0., 0., 0., 0., 0., 0., 0.])"
      ]
     },
     "execution_count": 20,
     "metadata": {},
     "output_type": "execute_result"
    }
   ],
   "source": [
    "np.zeros(10)"
   ]
  },
  {
   "cell_type": "code",
   "execution_count": 21,
   "id": "graphic-stress",
   "metadata": {},
   "outputs": [],
   "source": [
    "import numpy as np\n",
    "from sklearn.datasets import load_iris\n",
    "from sklearn.linear_model import Perceptron\n",
    "iris = load_iris()\n",
    "X = iris.data[:, (2, 3)] # petal length, petal width\n",
    "y = (iris.target == 0).astype(np.int) # Iris Setosa?\n",
    "per_clf = Perceptron()\n",
    "per_clf.fit(X, y)\n",
    "y_pred = per_clf.predict([[2, 0.5]])"
   ]
  },
  {
   "cell_type": "code",
   "execution_count": 22,
   "id": "welcome-poster",
   "metadata": {},
   "outputs": [
    {
     "data": {
      "text/plain": [
       "array([0])"
      ]
     },
     "execution_count": 22,
     "metadata": {},
     "output_type": "execute_result"
    }
   ],
   "source": [
    "y_pred"
   ]
  },
  {
   "cell_type": "code",
   "execution_count": 23,
   "id": "blessed-forwarding",
   "metadata": {},
   "outputs": [
    {
     "data": {
      "text/plain": [
       "Perceptron()"
      ]
     },
     "execution_count": 23,
     "metadata": {},
     "output_type": "execute_result"
    }
   ],
   "source": [
    "per_clf"
   ]
  },
  {
   "cell_type": "code",
   "execution_count": 24,
   "id": "smart-asset",
   "metadata": {},
   "outputs": [
    {
     "ename": "SyntaxError",
     "evalue": "invalid syntax (<ipython-input-24-545acd93a76a>, line 1)",
     "output_type": "error",
     "traceback": [
      "\u001b[1;36m  File \u001b[1;32m\"<ipython-input-24-545acd93a76a>\"\u001b[1;36m, line \u001b[1;32m1\u001b[0m\n\u001b[1;33m    string_ str=\"sdfsd\"\u001b[0m\n\u001b[1;37m            ^\u001b[0m\n\u001b[1;31mSyntaxError\u001b[0m\u001b[1;31m:\u001b[0m invalid syntax\n"
     ]
    }
   ],
   "source": [
    "string_ str=\"sdfsd\""
   ]
  },
  {
   "cell_type": "code",
   "execution_count": 25,
   "id": "dietary-syntax",
   "metadata": {},
   "outputs": [
    {
     "data": {
      "text/plain": [
       "array([1, 2, 3, 4])"
      ]
     },
     "execution_count": 25,
     "metadata": {},
     "output_type": "execute_result"
    }
   ],
   "source": [
    "arr = np.array([1,2,3,4])\n",
    "arr"
   ]
  },
  {
   "cell_type": "code",
   "execution_count": 26,
   "id": "south-gibson",
   "metadata": {},
   "outputs": [
    {
     "data": {
      "text/plain": [
       "array([ 1.25, -9.6 , 42.  ])"
      ]
     },
     "execution_count": 26,
     "metadata": {},
     "output_type": "execute_result"
    }
   ],
   "source": [
    "numeric_strings = np.array(['1.25', '-9.6', '42'],dtype=np.string_)\n",
    "numeric_strings.astype(float)"
   ]
  },
  {
   "cell_type": "code",
   "execution_count": 27,
   "id": "photographic-combining",
   "metadata": {},
   "outputs": [
    {
     "data": {
      "text/plain": [
       "array([0, 1, 2, 3, 4, 5, 6, 7, 8, 9])"
      ]
     },
     "execution_count": 27,
     "metadata": {},
     "output_type": "execute_result"
    }
   ],
   "source": [
    "ar = np.arange(10)\n",
    "ar"
   ]
  },
  {
   "cell_type": "code",
   "execution_count": 28,
   "id": "eleven-sender",
   "metadata": {},
   "outputs": [
    {
     "data": {
      "text/plain": [
       "5"
      ]
     },
     "execution_count": 28,
     "metadata": {},
     "output_type": "execute_result"
    }
   ],
   "source": [
    "ar[5]"
   ]
  },
  {
   "cell_type": "code",
   "execution_count": 29,
   "id": "structured-science",
   "metadata": {},
   "outputs": [],
   "source": [
    "arr2d = np.array([[1, 2, 3], [4, 5, 6], [7, 8, 9]])"
   ]
  },
  {
   "cell_type": "code",
   "execution_count": 30,
   "id": "competent-arnold",
   "metadata": {},
   "outputs": [
    {
     "data": {
      "text/plain": [
       "array([[1, 2, 3],\n",
       "       [4, 5, 6],\n",
       "       [7, 8, 9]])"
      ]
     },
     "execution_count": 30,
     "metadata": {},
     "output_type": "execute_result"
    }
   ],
   "source": [
    "arr2d"
   ]
  },
  {
   "cell_type": "code",
   "execution_count": 31,
   "id": "christian-playing",
   "metadata": {},
   "outputs": [
    {
     "data": {
      "text/plain": [
       "array([2, 3, 4])"
      ]
     },
     "execution_count": 31,
     "metadata": {},
     "output_type": "execute_result"
    }
   ],
   "source": [
    "arr[1:6]"
   ]
  },
  {
   "cell_type": "code",
   "execution_count": 32,
   "id": "complimentary-realtor",
   "metadata": {},
   "outputs": [
    {
     "data": {
      "text/plain": [
       "array([[1, 2, 3],\n",
       "       [4, 5, 6]])"
      ]
     },
     "execution_count": 32,
     "metadata": {},
     "output_type": "execute_result"
    }
   ],
   "source": [
    "arr2d[:2]"
   ]
  },
  {
   "cell_type": "code",
   "execution_count": 33,
   "id": "covered-tackle",
   "metadata": {},
   "outputs": [
    {
     "data": {
      "text/plain": [
       "array([[2, 3],\n",
       "       [5, 6]])"
      ]
     },
     "execution_count": 33,
     "metadata": {},
     "output_type": "execute_result"
    }
   ],
   "source": [
    "arr2d[:2, 1:]"
   ]
  },
  {
   "cell_type": "code",
   "execution_count": 34,
   "id": "textile-diploma",
   "metadata": {},
   "outputs": [],
   "source": [
    "import pandas as pd"
   ]
  },
  {
   "cell_type": "code",
   "execution_count": 35,
   "id": "complicated-architecture",
   "metadata": {},
   "outputs": [
    {
     "data": {
      "text/plain": [
       "0    1.0\n",
       "1    2.0\n",
       "2    4.0\n",
       "3    NaN\n",
       "4    5.0\n",
       "5    8.0\n",
       "6    9.0\n",
       "dtype: float64"
      ]
     },
     "execution_count": 35,
     "metadata": {},
     "output_type": "execute_result"
    }
   ],
   "source": [
    "s = pd.Series([1,2,4,np.nan,5,8,9])\n",
    "s"
   ]
  },
  {
   "cell_type": "code",
   "execution_count": 36,
   "id": "constant-navigation",
   "metadata": {},
   "outputs": [],
   "source": [
    "df = pd.read_csv('C:/Users/sramasam/Data/Auto.csv')\n"
   ]
  },
  {
   "cell_type": "code",
   "execution_count": 37,
   "id": "concerned-exhibit",
   "metadata": {},
   "outputs": [
    {
     "data": {
      "text/html": [
       "<div>\n",
       "<style scoped>\n",
       "    .dataframe tbody tr th:only-of-type {\n",
       "        vertical-align: middle;\n",
       "    }\n",
       "\n",
       "    .dataframe tbody tr th {\n",
       "        vertical-align: top;\n",
       "    }\n",
       "\n",
       "    .dataframe thead th {\n",
       "        text-align: right;\n",
       "    }\n",
       "</style>\n",
       "<table border=\"1\" class=\"dataframe\">\n",
       "  <thead>\n",
       "    <tr style=\"text-align: right;\">\n",
       "      <th></th>\n",
       "      <th>mpg</th>\n",
       "      <th>cylinders</th>\n",
       "      <th>displacement</th>\n",
       "      <th>horsepower</th>\n",
       "      <th>weight</th>\n",
       "      <th>acceleration</th>\n",
       "      <th>year</th>\n",
       "      <th>origin</th>\n",
       "      <th>name</th>\n",
       "    </tr>\n",
       "  </thead>\n",
       "  <tbody>\n",
       "    <tr>\n",
       "      <th>0</th>\n",
       "      <td>18.0</td>\n",
       "      <td>8</td>\n",
       "      <td>307.0</td>\n",
       "      <td>130</td>\n",
       "      <td>3504</td>\n",
       "      <td>12.0</td>\n",
       "      <td>70</td>\n",
       "      <td>1</td>\n",
       "      <td>chevrolet chevelle malibu</td>\n",
       "    </tr>\n",
       "    <tr>\n",
       "      <th>1</th>\n",
       "      <td>15.0</td>\n",
       "      <td>8</td>\n",
       "      <td>350.0</td>\n",
       "      <td>165</td>\n",
       "      <td>3693</td>\n",
       "      <td>11.5</td>\n",
       "      <td>70</td>\n",
       "      <td>1</td>\n",
       "      <td>buick skylark 320</td>\n",
       "    </tr>\n",
       "    <tr>\n",
       "      <th>2</th>\n",
       "      <td>18.0</td>\n",
       "      <td>8</td>\n",
       "      <td>318.0</td>\n",
       "      <td>150</td>\n",
       "      <td>3436</td>\n",
       "      <td>11.0</td>\n",
       "      <td>70</td>\n",
       "      <td>1</td>\n",
       "      <td>plymouth satellite</td>\n",
       "    </tr>\n",
       "    <tr>\n",
       "      <th>3</th>\n",
       "      <td>16.0</td>\n",
       "      <td>8</td>\n",
       "      <td>304.0</td>\n",
       "      <td>150</td>\n",
       "      <td>3433</td>\n",
       "      <td>12.0</td>\n",
       "      <td>70</td>\n",
       "      <td>1</td>\n",
       "      <td>amc rebel sst</td>\n",
       "    </tr>\n",
       "    <tr>\n",
       "      <th>4</th>\n",
       "      <td>17.0</td>\n",
       "      <td>8</td>\n",
       "      <td>302.0</td>\n",
       "      <td>140</td>\n",
       "      <td>3449</td>\n",
       "      <td>10.5</td>\n",
       "      <td>70</td>\n",
       "      <td>1</td>\n",
       "      <td>ford torino</td>\n",
       "    </tr>\n",
       "    <tr>\n",
       "      <th>...</th>\n",
       "      <td>...</td>\n",
       "      <td>...</td>\n",
       "      <td>...</td>\n",
       "      <td>...</td>\n",
       "      <td>...</td>\n",
       "      <td>...</td>\n",
       "      <td>...</td>\n",
       "      <td>...</td>\n",
       "      <td>...</td>\n",
       "    </tr>\n",
       "    <tr>\n",
       "      <th>392</th>\n",
       "      <td>27.0</td>\n",
       "      <td>4</td>\n",
       "      <td>140.0</td>\n",
       "      <td>86</td>\n",
       "      <td>2790</td>\n",
       "      <td>15.6</td>\n",
       "      <td>82</td>\n",
       "      <td>1</td>\n",
       "      <td>ford mustang gl</td>\n",
       "    </tr>\n",
       "    <tr>\n",
       "      <th>393</th>\n",
       "      <td>44.0</td>\n",
       "      <td>4</td>\n",
       "      <td>97.0</td>\n",
       "      <td>52</td>\n",
       "      <td>2130</td>\n",
       "      <td>24.6</td>\n",
       "      <td>82</td>\n",
       "      <td>2</td>\n",
       "      <td>vw pickup</td>\n",
       "    </tr>\n",
       "    <tr>\n",
       "      <th>394</th>\n",
       "      <td>32.0</td>\n",
       "      <td>4</td>\n",
       "      <td>135.0</td>\n",
       "      <td>84</td>\n",
       "      <td>2295</td>\n",
       "      <td>11.6</td>\n",
       "      <td>82</td>\n",
       "      <td>1</td>\n",
       "      <td>dodge rampage</td>\n",
       "    </tr>\n",
       "    <tr>\n",
       "      <th>395</th>\n",
       "      <td>28.0</td>\n",
       "      <td>4</td>\n",
       "      <td>120.0</td>\n",
       "      <td>79</td>\n",
       "      <td>2625</td>\n",
       "      <td>18.6</td>\n",
       "      <td>82</td>\n",
       "      <td>1</td>\n",
       "      <td>ford ranger</td>\n",
       "    </tr>\n",
       "    <tr>\n",
       "      <th>396</th>\n",
       "      <td>31.0</td>\n",
       "      <td>4</td>\n",
       "      <td>119.0</td>\n",
       "      <td>82</td>\n",
       "      <td>2720</td>\n",
       "      <td>19.4</td>\n",
       "      <td>82</td>\n",
       "      <td>1</td>\n",
       "      <td>chevy s-10</td>\n",
       "    </tr>\n",
       "  </tbody>\n",
       "</table>\n",
       "<p>397 rows × 9 columns</p>\n",
       "</div>"
      ],
      "text/plain": [
       "      mpg  cylinders  displacement horsepower  weight  acceleration  year  \\\n",
       "0    18.0          8         307.0        130    3504          12.0    70   \n",
       "1    15.0          8         350.0        165    3693          11.5    70   \n",
       "2    18.0          8         318.0        150    3436          11.0    70   \n",
       "3    16.0          8         304.0        150    3433          12.0    70   \n",
       "4    17.0          8         302.0        140    3449          10.5    70   \n",
       "..    ...        ...           ...        ...     ...           ...   ...   \n",
       "392  27.0          4         140.0         86    2790          15.6    82   \n",
       "393  44.0          4          97.0         52    2130          24.6    82   \n",
       "394  32.0          4         135.0         84    2295          11.6    82   \n",
       "395  28.0          4         120.0         79    2625          18.6    82   \n",
       "396  31.0          4         119.0         82    2720          19.4    82   \n",
       "\n",
       "     origin                       name  \n",
       "0         1  chevrolet chevelle malibu  \n",
       "1         1          buick skylark 320  \n",
       "2         1         plymouth satellite  \n",
       "3         1              amc rebel sst  \n",
       "4         1                ford torino  \n",
       "..      ...                        ...  \n",
       "392       1            ford mustang gl  \n",
       "393       2                  vw pickup  \n",
       "394       1              dodge rampage  \n",
       "395       1                ford ranger  \n",
       "396       1                 chevy s-10  \n",
       "\n",
       "[397 rows x 9 columns]"
      ]
     },
     "execution_count": 37,
     "metadata": {},
     "output_type": "execute_result"
    }
   ],
   "source": [
    "df"
   ]
  },
  {
   "cell_type": "code",
   "execution_count": 38,
   "id": "placed-neutral",
   "metadata": {},
   "outputs": [
    {
     "name": "stdout",
     "output_type": "stream",
     "text": [
      "      mpg  cylinders  displacement horsepower  weight  acceleration  year  origin                                  name\n",
      "0    18.0          8         307.0        130    3504          12.0    70       1             chevrolet chevelle malibu\n",
      "1    15.0          8         350.0        165    3693          11.5    70       1                     buick skylark 320\n",
      "2    18.0          8         318.0        150    3436          11.0    70       1                    plymouth satellite\n",
      "3    16.0          8         304.0        150    3433          12.0    70       1                         amc rebel sst\n",
      "4    17.0          8         302.0        140    3449          10.5    70       1                           ford torino\n",
      "5    15.0          8         429.0        198    4341          10.0    70       1                      ford galaxie 500\n",
      "6    14.0          8         454.0        220    4354           9.0    70       1                      chevrolet impala\n",
      "7    14.0          8         440.0        215    4312           8.5    70       1                     plymouth fury iii\n",
      "8    14.0          8         455.0        225    4425          10.0    70       1                      pontiac catalina\n",
      "9    15.0          8         390.0        190    3850           8.5    70       1                    amc ambassador dpl\n",
      "10   15.0          8         383.0        170    3563          10.0    70       1                   dodge challenger se\n",
      "11   14.0          8         340.0        160    3609           8.0    70       1                    plymouth 'cuda 340\n",
      "12   15.0          8         400.0        150    3761           9.5    70       1                 chevrolet monte carlo\n",
      "13   14.0          8         455.0        225    3086          10.0    70       1               buick estate wagon (sw)\n",
      "14   24.0          4         113.0         95    2372          15.0    70       3                 toyota corona mark ii\n",
      "15   22.0          6         198.0         95    2833          15.5    70       1                       plymouth duster\n",
      "16   18.0          6         199.0         97    2774          15.5    70       1                            amc hornet\n",
      "17   21.0          6         200.0         85    2587          16.0    70       1                         ford maverick\n",
      "18   27.0          4          97.0         88    2130          14.5    70       3                          datsun pl510\n",
      "19   26.0          4          97.0         46    1835          20.5    70       2          volkswagen 1131 deluxe sedan\n",
      "20   25.0          4         110.0         87    2672          17.5    70       2                           peugeot 504\n",
      "21   24.0          4         107.0         90    2430          14.5    70       2                           audi 100 ls\n",
      "22   25.0          4         104.0         95    2375          17.5    70       2                              saab 99e\n",
      "23   26.0          4         121.0        113    2234          12.5    70       2                              bmw 2002\n",
      "24   21.0          6         199.0         90    2648          15.0    70       1                           amc gremlin\n",
      "25   10.0          8         360.0        215    4615          14.0    70       1                             ford f250\n",
      "26   10.0          8         307.0        200    4376          15.0    70       1                             chevy c20\n",
      "27   11.0          8         318.0        210    4382          13.5    70       1                            dodge d200\n",
      "28    9.0          8         304.0        193    4732          18.5    70       1                              hi 1200d\n",
      "29   27.0          4          97.0         88    2130          14.5    71       3                          datsun pl510\n",
      "30   28.0          4         140.0         90    2264          15.5    71       1                   chevrolet vega 2300\n",
      "31   25.0          4         113.0         95    2228          14.0    71       3                         toyota corona\n",
      "32   25.0          4          98.0          ?    2046          19.0    71       1                            ford pinto\n",
      "33   19.0          6         232.0        100    2634          13.0    71       1                           amc gremlin\n",
      "34   16.0          6         225.0        105    3439          15.5    71       1             plymouth satellite custom\n",
      "35   17.0          6         250.0        100    3329          15.5    71       1             chevrolet chevelle malibu\n",
      "36   19.0          6         250.0         88    3302          15.5    71       1                       ford torino 500\n",
      "37   18.0          6         232.0        100    3288          15.5    71       1                           amc matador\n",
      "38   14.0          8         350.0        165    4209          12.0    71       1                      chevrolet impala\n",
      "39   14.0          8         400.0        175    4464          11.5    71       1             pontiac catalina brougham\n",
      "40   14.0          8         351.0        153    4154          13.5    71       1                      ford galaxie 500\n",
      "41   14.0          8         318.0        150    4096          13.0    71       1                     plymouth fury iii\n",
      "42   12.0          8         383.0        180    4955          11.5    71       1                     dodge monaco (sw)\n",
      "43   13.0          8         400.0        170    4746          12.0    71       1              ford country squire (sw)\n",
      "44   13.0          8         400.0        175    5140          12.0    71       1                   pontiac safari (sw)\n",
      "45   18.0          6         258.0        110    2962          13.5    71       1            amc hornet sportabout (sw)\n",
      "46   22.0          4         140.0         72    2408          19.0    71       1                   chevrolet vega (sw)\n",
      "47   19.0          6         250.0        100    3282          15.0    71       1                      pontiac firebird\n",
      "48   18.0          6         250.0         88    3139          14.5    71       1                          ford mustang\n",
      "49   23.0          4         122.0         86    2220          14.0    71       1                    mercury capri 2000\n",
      "50   28.0          4         116.0         90    2123          14.0    71       2                             opel 1900\n",
      "51   30.0          4          79.0         70    2074          19.5    71       2                           peugeot 304\n",
      "52   30.0          4          88.0         76    2065          14.5    71       2                             fiat 124b\n",
      "53   31.0          4          71.0         65    1773          19.0    71       3                   toyota corolla 1200\n",
      "54   35.0          4          72.0         69    1613          18.0    71       3                           datsun 1200\n",
      "55   27.0          4          97.0         60    1834          19.0    71       2                  volkswagen model 111\n",
      "56   26.0          4          91.0         70    1955          20.5    71       1                      plymouth cricket\n",
      "57   24.0          4         113.0         95    2278          15.5    72       3                 toyota corona hardtop\n",
      "58   25.0          4          97.5         80    2126          17.0    72       1                    dodge colt hardtop\n",
      "59   23.0          4          97.0         54    2254          23.5    72       2                     volkswagen type 3\n",
      "60   20.0          4         140.0         90    2408          19.5    72       1                        chevrolet vega\n",
      "61   21.0          4         122.0         86    2226          16.5    72       1                   ford pinto runabout\n",
      "62   13.0          8         350.0        165    4274          12.0    72       1                      chevrolet impala\n",
      "63   14.0          8         400.0        175    4385          12.0    72       1                      pontiac catalina\n",
      "64   15.0          8         318.0        150    4135          13.5    72       1                     plymouth fury iii\n",
      "65   14.0          8         351.0        153    4129          13.0    72       1                      ford galaxie 500\n",
      "66   17.0          8         304.0        150    3672          11.5    72       1                    amc ambassador sst\n",
      "67   11.0          8         429.0        208    4633          11.0    72       1                       mercury marquis\n",
      "68   13.0          8         350.0        155    4502          13.5    72       1                  buick lesabre custom\n",
      "69   12.0          8         350.0        160    4456          13.5    72       1            oldsmobile delta 88 royale\n",
      "70   13.0          8         400.0        190    4422          12.5    72       1                chrysler newport royal\n",
      "71   19.0          3          70.0         97    2330          13.5    72       3                       mazda rx2 coupe\n",
      "72   15.0          8         304.0        150    3892          12.5    72       1                      amc matador (sw)\n",
      "73   13.0          8         307.0        130    4098          14.0    72       1      chevrolet chevelle concours (sw)\n",
      "74   13.0          8         302.0        140    4294          16.0    72       1                 ford gran torino (sw)\n",
      "75   14.0          8         318.0        150    4077          14.0    72       1        plymouth satellite custom (sw)\n",
      "76   18.0          4         121.0        112    2933          14.5    72       2                       volvo 145e (sw)\n",
      "77   22.0          4         121.0         76    2511          18.0    72       2                   volkswagen 411 (sw)\n",
      "78   21.0          4         120.0         87    2979          19.5    72       2                      peugeot 504 (sw)\n",
      "79   26.0          4          96.0         69    2189          18.0    72       2                       renault 12 (sw)\n",
      "80   22.0          4         122.0         86    2395          16.0    72       1                       ford pinto (sw)\n",
      "81   28.0          4          97.0         92    2288          17.0    72       3                       datsun 510 (sw)\n",
      "82   23.0          4         120.0         97    2506          14.5    72       3           toyouta corona mark ii (sw)\n",
      "83   28.0          4          98.0         80    2164          15.0    72       1                       dodge colt (sw)\n",
      "84   27.0          4          97.0         88    2100          16.5    72       3              toyota corolla 1600 (sw)\n",
      "85   13.0          8         350.0        175    4100          13.0    73       1                     buick century 350\n",
      "86   14.0          8         304.0        150    3672          11.5    73       1                           amc matador\n",
      "87   13.0          8         350.0        145    3988          13.0    73       1                      chevrolet malibu\n",
      "88   14.0          8         302.0        137    4042          14.5    73       1                      ford gran torino\n",
      "89   15.0          8         318.0        150    3777          12.5    73       1                  dodge coronet custom\n",
      "90   12.0          8         429.0        198    4952          11.5    73       1              mercury marquis brougham\n",
      "91   13.0          8         400.0        150    4464          12.0    73       1             chevrolet caprice classic\n",
      "92   13.0          8         351.0        158    4363          13.0    73       1                              ford ltd\n",
      "93   14.0          8         318.0        150    4237          14.5    73       1              plymouth fury gran sedan\n",
      "94   13.0          8         440.0        215    4735          11.0    73       1          chrysler new yorker brougham\n",
      "95   12.0          8         455.0        225    4951          11.0    73       1              buick electra 225 custom\n",
      "96   13.0          8         360.0        175    3821          11.0    73       1               amc ambassador brougham\n",
      "97   18.0          6         225.0        105    3121          16.5    73       1                      plymouth valiant\n",
      "98   16.0          6         250.0        100    3278          18.0    73       1                 chevrolet nova custom\n",
      "99   18.0          6         232.0        100    2945          16.0    73       1                            amc hornet\n",
      "100  18.0          6         250.0         88    3021          16.5    73       1                         ford maverick\n",
      "101  23.0          6         198.0         95    2904          16.0    73       1                       plymouth duster\n",
      "102  26.0          4          97.0         46    1950          21.0    73       2               volkswagen super beetle\n",
      "103  11.0          8         400.0        150    4997          14.0    73       1                      chevrolet impala\n",
      "104  12.0          8         400.0        167    4906          12.5    73       1                          ford country\n",
      "105  13.0          8         360.0        170    4654          13.0    73       1                plymouth custom suburb\n",
      "106  12.0          8         350.0        180    4499          12.5    73       1              oldsmobile vista cruiser\n",
      "107  18.0          6         232.0        100    2789          15.0    73       1                           amc gremlin\n",
      "108  20.0          4          97.0         88    2279          19.0    73       3                         toyota carina\n",
      "109  21.0          4         140.0         72    2401          19.5    73       1                        chevrolet vega\n",
      "110  22.0          4         108.0         94    2379          16.5    73       3                            datsun 610\n",
      "111  18.0          3          70.0         90    2124          13.5    73       3                             maxda rx3\n",
      "112  19.0          4         122.0         85    2310          18.5    73       1                            ford pinto\n",
      "113  21.0          6         155.0        107    2472          14.0    73       1                      mercury capri v6\n",
      "114  26.0          4          98.0         90    2265          15.5    73       2                  fiat 124 sport coupe\n",
      "115  15.0          8         350.0        145    4082          13.0    73       1               chevrolet monte carlo s\n",
      "116  16.0          8         400.0        230    4278           9.5    73       1                    pontiac grand prix\n",
      "117  29.0          4          68.0         49    1867          19.5    73       2                              fiat 128\n",
      "118  24.0          4         116.0         75    2158          15.5    73       2                            opel manta\n",
      "119  20.0          4         114.0         91    2582          14.0    73       2                            audi 100ls\n",
      "120  19.0          4         121.0        112    2868          15.5    73       2                           volvo 144ea\n",
      "121  15.0          8         318.0        150    3399          11.0    73       1                     dodge dart custom\n",
      "122  24.0          4         121.0        110    2660          14.0    73       2                             saab 99le\n",
      "123  20.0          6         156.0        122    2807          13.5    73       3                        toyota mark ii\n",
      "124  11.0          8         350.0        180    3664          11.0    73       1                      oldsmobile omega\n",
      "125  20.0          6         198.0         95    3102          16.5    74       1                       plymouth duster\n",
      "126  21.0          6         200.0          ?    2875          17.0    74       1                         ford maverick\n",
      "127  19.0          6         232.0        100    2901          16.0    74       1                            amc hornet\n",
      "128  15.0          6         250.0        100    3336          17.0    74       1                        chevrolet nova\n",
      "129  31.0          4          79.0         67    1950          19.0    74       3                           datsun b210\n",
      "130  26.0          4         122.0         80    2451          16.5    74       1                            ford pinto\n",
      "131  32.0          4          71.0         65    1836          21.0    74       3                   toyota corolla 1200\n",
      "132  25.0          4         140.0         75    2542          17.0    74       1                        chevrolet vega\n",
      "133  16.0          6         250.0        100    3781          17.0    74       1     chevrolet chevelle malibu classic\n",
      "134  16.0          6         258.0        110    3632          18.0    74       1                           amc matador\n",
      "135  18.0          6         225.0        105    3613          16.5    74       1            plymouth satellite sebring\n",
      "136  16.0          8         302.0        140    4141          14.0    74       1                      ford gran torino\n",
      "137  13.0          8         350.0        150    4699          14.5    74       1              buick century luxus (sw)\n",
      "138  14.0          8         318.0        150    4457          13.5    74       1             dodge coronet custom (sw)\n",
      "139  14.0          8         302.0        140    4638          16.0    74       1                 ford gran torino (sw)\n",
      "140  14.0          8         304.0        150    4257          15.5    74       1                      amc matador (sw)\n",
      "141  29.0          4          98.0         83    2219          16.5    74       2                              audi fox\n",
      "142  26.0          4          79.0         67    1963          15.5    74       2                     volkswagen dasher\n",
      "143  26.0          4          97.0         78    2300          14.5    74       2                            opel manta\n",
      "144  31.0          4          76.0         52    1649          16.5    74       3                         toyota corona\n",
      "145  32.0          4          83.0         61    2003          19.0    74       3                            datsun 710\n",
      "146  28.0          4          90.0         75    2125          14.5    74       1                            dodge colt\n",
      "147  24.0          4          90.0         75    2108          15.5    74       2                              fiat 128\n",
      "148  26.0          4         116.0         75    2246          14.0    74       2                           fiat 124 tc\n",
      "149  24.0          4         120.0         97    2489          15.0    74       3                           honda civic\n",
      "150  26.0          4         108.0         93    2391          15.5    74       3                                subaru\n",
      "151  31.0          4          79.0         67    2000          16.0    74       2                             fiat x1.9\n",
      "152  19.0          6         225.0         95    3264          16.0    75       1               plymouth valiant custom\n",
      "153  18.0          6         250.0        105    3459          16.0    75       1                        chevrolet nova\n",
      "154  15.0          6         250.0         72    3432          21.0    75       1                       mercury monarch\n",
      "155  15.0          6         250.0         72    3158          19.5    75       1                         ford maverick\n",
      "156  16.0          8         400.0        170    4668          11.5    75       1                      pontiac catalina\n",
      "157  15.0          8         350.0        145    4440          14.0    75       1                     chevrolet bel air\n",
      "158  16.0          8         318.0        150    4498          14.5    75       1                   plymouth grand fury\n",
      "159  14.0          8         351.0        148    4657          13.5    75       1                              ford ltd\n",
      "160  17.0          6         231.0        110    3907          21.0    75       1                         buick century\n",
      "161  16.0          6         250.0        105    3897          18.5    75       1             chevroelt chevelle malibu\n",
      "162  15.0          6         258.0        110    3730          19.0    75       1                           amc matador\n",
      "163  18.0          6         225.0         95    3785          19.0    75       1                         plymouth fury\n",
      "164  21.0          6         231.0        110    3039          15.0    75       1                         buick skyhawk\n",
      "165  20.0          8         262.0        110    3221          13.5    75       1                   chevrolet monza 2+2\n",
      "166  13.0          8         302.0        129    3169          12.0    75       1                       ford mustang ii\n",
      "167  29.0          4          97.0         75    2171          16.0    75       3                        toyota corolla\n",
      "168  23.0          4         140.0         83    2639          17.0    75       1                            ford pinto\n",
      "169  20.0          6         232.0        100    2914          16.0    75       1                           amc gremlin\n",
      "170  23.0          4         140.0         78    2592          18.5    75       1                         pontiac astro\n",
      "171  24.0          4         134.0         96    2702          13.5    75       3                         toyota corona\n",
      "172  25.0          4          90.0         71    2223          16.5    75       2                     volkswagen dasher\n",
      "173  24.0          4         119.0         97    2545          17.0    75       3                            datsun 710\n",
      "174  18.0          6         171.0         97    2984          14.5    75       1                            ford pinto\n",
      "175  29.0          4          90.0         70    1937          14.0    75       2                     volkswagen rabbit\n",
      "176  19.0          6         232.0         90    3211          17.0    75       1                             amc pacer\n",
      "177  23.0          4         115.0         95    2694          15.0    75       2                            audi 100ls\n",
      "178  23.0          4         120.0         88    2957          17.0    75       2                           peugeot 504\n",
      "179  22.0          4         121.0         98    2945          14.5    75       2                           volvo 244dl\n",
      "180  25.0          4         121.0        115    2671          13.5    75       2                             saab 99le\n",
      "181  33.0          4          91.0         53    1795          17.5    75       3                      honda civic cvcc\n",
      "182  28.0          4         107.0         86    2464          15.5    76       2                              fiat 131\n",
      "183  25.0          4         116.0         81    2220          16.9    76       2                             opel 1900\n",
      "184  25.0          4         140.0         92    2572          14.9    76       1                              capri ii\n",
      "185  26.0          4          98.0         79    2255          17.7    76       1                            dodge colt\n",
      "186  27.0          4         101.0         83    2202          15.3    76       2                          renault 12tl\n",
      "187  17.5          8         305.0        140    4215          13.0    76       1     chevrolet chevelle malibu classic\n",
      "188  16.0          8         318.0        150    4190          13.0    76       1                dodge coronet brougham\n",
      "189  15.5          8         304.0        120    3962          13.9    76       1                           amc matador\n",
      "190  14.5          8         351.0        152    4215          12.8    76       1                      ford gran torino\n",
      "191  22.0          6         225.0        100    3233          15.4    76       1                      plymouth valiant\n",
      "192  22.0          6         250.0        105    3353          14.5    76       1                        chevrolet nova\n",
      "193  24.0          6         200.0         81    3012          17.6    76       1                         ford maverick\n",
      "194  22.5          6         232.0         90    3085          17.6    76       1                            amc hornet\n",
      "195  29.0          4          85.0         52    2035          22.2    76       1                    chevrolet chevette\n",
      "196  24.5          4          98.0         60    2164          22.1    76       1                       chevrolet woody\n",
      "197  29.0          4          90.0         70    1937          14.2    76       2                             vw rabbit\n",
      "198  33.0          4          91.0         53    1795          17.4    76       3                           honda civic\n",
      "199  20.0          6         225.0        100    3651          17.7    76       1                        dodge aspen se\n",
      "200  18.0          6         250.0         78    3574          21.0    76       1                     ford granada ghia\n",
      "201  18.5          6         250.0        110    3645          16.2    76       1                    pontiac ventura sj\n",
      "202  17.5          6         258.0         95    3193          17.8    76       1                         amc pacer d/l\n",
      "203  29.5          4          97.0         71    1825          12.2    76       2                     volkswagen rabbit\n",
      "204  32.0          4          85.0         70    1990          17.0    76       3                          datsun b-210\n",
      "205  28.0          4          97.0         75    2155          16.4    76       3                        toyota corolla\n",
      "206  26.5          4         140.0         72    2565          13.6    76       1                            ford pinto\n",
      "207  20.0          4         130.0        102    3150          15.7    76       2                             volvo 245\n",
      "208  13.0          8         318.0        150    3940          13.2    76       1            plymouth volare premier v8\n",
      "209  19.0          4         120.0         88    3270          21.9    76       2                           peugeot 504\n",
      "210  19.0          6         156.0        108    2930          15.5    76       3                        toyota mark ii\n",
      "211  16.5          6         168.0        120    3820          16.7    76       2                    mercedes-benz 280s\n",
      "212  16.5          8         350.0        180    4380          12.1    76       1                      cadillac seville\n",
      "213  13.0          8         350.0        145    4055          12.0    76       1                             chevy c10\n",
      "214  13.0          8         302.0        130    3870          15.0    76       1                             ford f108\n",
      "215  13.0          8         318.0        150    3755          14.0    76       1                            dodge d100\n",
      "216  31.5          4          98.0         68    2045          18.5    77       3                     honda accord cvcc\n",
      "217  30.0          4         111.0         80    2155          14.8    77       1               buick opel isuzu deluxe\n",
      "218  36.0          4          79.0         58    1825          18.6    77       2                         renault 5 gtl\n",
      "219  25.5          4         122.0         96    2300          15.5    77       1                     plymouth arrow gs\n",
      "220  33.5          4          85.0         70    1945          16.8    77       3                 datsun f-10 hatchback\n",
      "221  17.5          8         305.0        145    3880          12.5    77       1             chevrolet caprice classic\n",
      "222  17.0          8         260.0        110    4060          19.0    77       1            oldsmobile cutlass supreme\n",
      "223  15.5          8         318.0        145    4140          13.7    77       1                 dodge monaco brougham\n",
      "224  15.0          8         302.0        130    4295          14.9    77       1               mercury cougar brougham\n",
      "225  17.5          6         250.0        110    3520          16.4    77       1                    chevrolet concours\n",
      "226  20.5          6         231.0        105    3425          16.9    77       1                         buick skylark\n",
      "227  19.0          6         225.0        100    3630          17.7    77       1                plymouth volare custom\n",
      "228  18.5          6         250.0         98    3525          19.0    77       1                          ford granada\n",
      "229  16.0          8         400.0        180    4220          11.1    77       1                 pontiac grand prix lj\n",
      "230  15.5          8         350.0        170    4165          11.4    77       1          chevrolet monte carlo landau\n",
      "231  15.5          8         400.0        190    4325          12.2    77       1                      chrysler cordoba\n",
      "232  16.0          8         351.0        149    4335          14.5    77       1                      ford thunderbird\n",
      "233  29.0          4          97.0         78    1940          14.5    77       2              volkswagen rabbit custom\n",
      "234  24.5          4         151.0         88    2740          16.0    77       1                 pontiac sunbird coupe\n",
      "235  26.0          4          97.0         75    2265          18.2    77       3               toyota corolla liftback\n",
      "236  25.5          4         140.0         89    2755          15.8    77       1                   ford mustang ii 2+2\n",
      "237  30.5          4          98.0         63    2051          17.0    77       1                    chevrolet chevette\n",
      "238  33.5          4          98.0         83    2075          15.9    77       1                        dodge colt m/m\n",
      "239  30.0          4          97.0         67    1985          16.4    77       3                             subaru dl\n",
      "240  30.5          4          97.0         78    2190          14.1    77       2                     volkswagen dasher\n",
      "241  22.0          6         146.0         97    2815          14.5    77       3                            datsun 810\n",
      "242  21.5          4         121.0        110    2600          12.8    77       2                              bmw 320i\n",
      "243  21.5          3          80.0        110    2720          13.5    77       3                            mazda rx-4\n",
      "244  43.1          4          90.0         48    1985          21.5    78       2       volkswagen rabbit custom diesel\n",
      "245  36.1          4          98.0         66    1800          14.4    78       1                           ford fiesta\n",
      "246  32.8          4          78.0         52    1985          19.4    78       3                      mazda glc deluxe\n",
      "247  39.4          4          85.0         70    2070          18.6    78       3                        datsun b210 gx\n",
      "248  36.1          4          91.0         60    1800          16.4    78       3                      honda civic cvcc\n",
      "249  19.9          8         260.0        110    3365          15.5    78       1     oldsmobile cutlass salon brougham\n",
      "250  19.4          8         318.0        140    3735          13.2    78       1                        dodge diplomat\n",
      "251  20.2          8         302.0        139    3570          12.8    78       1                  mercury monarch ghia\n",
      "252  19.2          6         231.0        105    3535          19.2    78       1                    pontiac phoenix lj\n",
      "253  20.5          6         200.0         95    3155          18.2    78       1                      chevrolet malibu\n",
      "254  20.2          6         200.0         85    2965          15.8    78       1                  ford fairmont (auto)\n",
      "255  25.1          4         140.0         88    2720          15.4    78       1                   ford fairmont (man)\n",
      "256  20.5          6         225.0        100    3430          17.2    78       1                       plymouth volare\n",
      "257  19.4          6         232.0         90    3210          17.2    78       1                           amc concord\n",
      "258  20.6          6         231.0        105    3380          15.8    78       1                 buick century special\n",
      "259  20.8          6         200.0         85    3070          16.7    78       1                        mercury zephyr\n",
      "260  18.6          6         225.0        110    3620          18.7    78       1                           dodge aspen\n",
      "261  18.1          6         258.0        120    3410          15.1    78       1                       amc concord d/l\n",
      "262  19.2          8         305.0        145    3425          13.2    78       1          chevrolet monte carlo landau\n",
      "263  17.7          6         231.0        165    3445          13.4    78       1       buick regal sport coupe (turbo)\n",
      "264  18.1          8         302.0        139    3205          11.2    78       1                           ford futura\n",
      "265  17.5          8         318.0        140    4080          13.7    78       1                       dodge magnum xe\n",
      "266  30.0          4          98.0         68    2155          16.5    78       1                    chevrolet chevette\n",
      "267  27.5          4         134.0         95    2560          14.2    78       3                         toyota corona\n",
      "268  27.2          4         119.0         97    2300          14.7    78       3                            datsun 510\n",
      "269  30.9          4         105.0         75    2230          14.5    78       1                            dodge omni\n",
      "270  21.1          4         134.0         95    2515          14.8    78       3             toyota celica gt liftback\n",
      "271  23.2          4         156.0        105    2745          16.7    78       1                      plymouth sapporo\n",
      "272  23.8          4         151.0         85    2855          17.6    78       1                oldsmobile starfire sx\n",
      "273  23.9          4         119.0         97    2405          14.9    78       3                         datsun 200-sx\n",
      "274  20.3          5         131.0        103    2830          15.9    78       2                             audi 5000\n",
      "275  17.0          6         163.0        125    3140          13.6    78       2                           volvo 264gl\n",
      "276  21.6          4         121.0        115    2795          15.7    78       2                            saab 99gle\n",
      "277  16.2          6         163.0        133    3410          15.8    78       2                         peugeot 604sl\n",
      "278  31.5          4          89.0         71    1990          14.9    78       2                   volkswagen scirocco\n",
      "279  29.5          4          98.0         68    2135          16.6    78       3                       honda accord lx\n",
      "280  21.5          6         231.0        115    3245          15.4    79       1                     pontiac lemans v6\n",
      "281  19.8          6         200.0         85    2990          18.2    79       1                      mercury zephyr 6\n",
      "282  22.3          4         140.0         88    2890          17.3    79       1                       ford fairmont 4\n",
      "283  20.2          6         232.0         90    3265          18.2    79       1                      amc concord dl 6\n",
      "284  20.6          6         225.0        110    3360          16.6    79       1                         dodge aspen 6\n",
      "285  17.0          8         305.0        130    3840          15.4    79       1             chevrolet caprice classic\n",
      "286  17.6          8         302.0        129    3725          13.4    79       1                       ford ltd landau\n",
      "287  16.5          8         351.0        138    3955          13.2    79       1                 mercury grand marquis\n",
      "288  18.2          8         318.0        135    3830          15.2    79       1                       dodge st. regis\n",
      "289  16.9          8         350.0        155    4360          14.9    79       1               buick estate wagon (sw)\n",
      "290  15.5          8         351.0        142    4054          14.3    79       1              ford country squire (sw)\n",
      "291  19.2          8         267.0        125    3605          15.0    79       1         chevrolet malibu classic (sw)\n",
      "292  18.5          8         360.0        150    3940          13.0    79       1  chrysler lebaron town @ country (sw)\n",
      "293  31.9          4          89.0         71    1925          14.0    79       2                      vw rabbit custom\n",
      "294  34.1          4          86.0         65    1975          15.2    79       3                      maxda glc deluxe\n",
      "295  35.7          4          98.0         80    1915          14.4    79       1           dodge colt hatchback custom\n",
      "296  27.4          4         121.0         80    2670          15.0    79       1                         amc spirit dl\n",
      "297  25.4          5         183.0         77    3530          20.1    79       2                    mercedes benz 300d\n",
      "298  23.0          8         350.0        125    3900          17.4    79       1                     cadillac eldorado\n",
      "299  27.2          4         141.0         71    3190          24.8    79       2                           peugeot 504\n",
      "300  23.9          8         260.0         90    3420          22.2    79       1     oldsmobile cutlass salon brougham\n",
      "301  34.2          4         105.0         70    2200          13.2    79       1                      plymouth horizon\n",
      "302  34.5          4         105.0         70    2150          14.9    79       1                  plymouth horizon tc3\n",
      "303  31.8          4          85.0         65    2020          19.2    79       3                            datsun 210\n",
      "304  37.3          4          91.0         69    2130          14.7    79       2                    fiat strada custom\n",
      "305  28.4          4         151.0         90    2670          16.0    79       1                 buick skylark limited\n",
      "306  28.8          6         173.0        115    2595          11.3    79       1                    chevrolet citation\n",
      "307  26.8          6         173.0        115    2700          12.9    79       1             oldsmobile omega brougham\n",
      "308  33.5          4         151.0         90    2556          13.2    79       1                       pontiac phoenix\n",
      "309  41.5          4          98.0         76    2144          14.7    80       2                             vw rabbit\n",
      "310  38.1          4          89.0         60    1968          18.8    80       3                 toyota corolla tercel\n",
      "311  32.1          4          98.0         70    2120          15.5    80       1                    chevrolet chevette\n",
      "312  37.2          4          86.0         65    2019          16.4    80       3                            datsun 310\n",
      "313  28.0          4         151.0         90    2678          16.5    80       1                    chevrolet citation\n",
      "314  26.4          4         140.0         88    2870          18.1    80       1                         ford fairmont\n",
      "315  24.3          4         151.0         90    3003          20.1    80       1                           amc concord\n",
      "316  19.1          6         225.0         90    3381          18.7    80       1                           dodge aspen\n",
      "317  34.3          4          97.0         78    2188          15.8    80       2                             audi 4000\n",
      "318  29.8          4         134.0         90    2711          15.5    80       3                toyota corona liftback\n",
      "319  31.3          4         120.0         75    2542          17.5    80       3                             mazda 626\n",
      "320  37.0          4         119.0         92    2434          15.0    80       3                  datsun 510 hatchback\n",
      "321  32.2          4         108.0         75    2265          15.2    80       3                        toyota corolla\n",
      "322  46.6          4          86.0         65    2110          17.9    80       3                             mazda glc\n",
      "323  27.9          4         156.0        105    2800          14.4    80       1                            dodge colt\n",
      "324  40.8          4          85.0         65    2110          19.2    80       3                            datsun 210\n",
      "325  44.3          4          90.0         48    2085          21.7    80       2                  vw rabbit c (diesel)\n",
      "326  43.4          4          90.0         48    2335          23.7    80       2                    vw dasher (diesel)\n",
      "327  36.4          5         121.0         67    2950          19.9    80       2                   audi 5000s (diesel)\n",
      "328  30.0          4         146.0         67    3250          21.8    80       2                    mercedes-benz 240d\n",
      "329  44.6          4          91.0         67    1850          13.8    80       3                   honda civic 1500 gl\n",
      "330  40.9          4          85.0          ?    1835          17.3    80       2                  renault lecar deluxe\n",
      "331  33.8          4          97.0         67    2145          18.0    80       3                             subaru dl\n",
      "332  29.8          4          89.0         62    1845          15.3    80       2                      vokswagen rabbit\n",
      "333  32.7          6         168.0        132    2910          11.4    80       3                         datsun 280-zx\n",
      "334  23.7          3          70.0        100    2420          12.5    80       3                         mazda rx-7 gs\n",
      "335  35.0          4         122.0         88    2500          15.1    80       2                     triumph tr7 coupe\n",
      "336  23.6          4         140.0          ?    2905          14.3    80       1                    ford mustang cobra\n",
      "337  32.4          4         107.0         72    2290          17.0    80       3                          honda accord\n",
      "338  27.2          4         135.0         84    2490          15.7    81       1                      plymouth reliant\n",
      "339  26.6          4         151.0         84    2635          16.4    81       1                         buick skylark\n",
      "340  25.8          4         156.0         92    2620          14.4    81       1                dodge aries wagon (sw)\n",
      "341  23.5          6         173.0        110    2725          12.6    81       1                    chevrolet citation\n",
      "342  30.0          4         135.0         84    2385          12.9    81       1                      plymouth reliant\n",
      "343  39.1          4          79.0         58    1755          16.9    81       3                        toyota starlet\n",
      "344  39.0          4          86.0         64    1875          16.4    81       1                        plymouth champ\n",
      "345  35.1          4          81.0         60    1760          16.1    81       3                      honda civic 1300\n",
      "346  32.3          4          97.0         67    2065          17.8    81       3                                subaru\n",
      "347  37.0          4          85.0         65    1975          19.4    81       3                        datsun 210 mpg\n",
      "348  37.7          4          89.0         62    2050          17.3    81       3                         toyota tercel\n",
      "349  34.1          4          91.0         68    1985          16.0    81       3                           mazda glc 4\n",
      "350  34.7          4         105.0         63    2215          14.9    81       1                    plymouth horizon 4\n",
      "351  34.4          4          98.0         65    2045          16.2    81       1                        ford escort 4w\n",
      "352  29.9          4          98.0         65    2380          20.7    81       1                        ford escort 2h\n",
      "353  33.0          4         105.0         74    2190          14.2    81       2                      volkswagen jetta\n",
      "354  34.5          4         100.0          ?    2320          15.8    81       2                           renault 18i\n",
      "355  33.7          4         107.0         75    2210          14.4    81       3                         honda prelude\n",
      "356  32.4          4         108.0         75    2350          16.8    81       3                        toyota corolla\n",
      "357  32.9          4         119.0        100    2615          14.8    81       3                          datsun 200sx\n",
      "358  31.6          4         120.0         74    2635          18.3    81       3                             mazda 626\n",
      "359  28.1          4         141.0         80    3230          20.4    81       2             peugeot 505s turbo diesel\n",
      "360  30.7          6         145.0         76    3160          19.6    81       2                          volvo diesel\n",
      "361  25.4          6         168.0        116    2900          12.6    81       3                       toyota cressida\n",
      "362  24.2          6         146.0        120    2930          13.8    81       3                     datsun 810 maxima\n",
      "363  22.4          6         231.0        110    3415          15.8    81       1                         buick century\n",
      "364  26.6          8         350.0        105    3725          19.0    81       1                 oldsmobile cutlass ls\n",
      "365  20.2          6         200.0         88    3060          17.1    81       1                       ford granada gl\n",
      "366  17.6          6         225.0         85    3465          16.6    81       1                chrysler lebaron salon\n",
      "367  28.0          4         112.0         88    2605          19.6    82       1                    chevrolet cavalier\n",
      "368  27.0          4         112.0         88    2640          18.6    82       1              chevrolet cavalier wagon\n",
      "369  34.0          4         112.0         88    2395          18.0    82       1             chevrolet cavalier 2-door\n",
      "370  31.0          4         112.0         85    2575          16.2    82       1            pontiac j2000 se hatchback\n",
      "371  29.0          4         135.0         84    2525          16.0    82       1                        dodge aries se\n",
      "372  27.0          4         151.0         90    2735          18.0    82       1                       pontiac phoenix\n",
      "373  24.0          4         140.0         92    2865          16.4    82       1                  ford fairmont futura\n",
      "374  36.0          4         105.0         74    1980          15.3    82       2                   volkswagen rabbit l\n",
      "375  37.0          4          91.0         68    2025          18.2    82       3                    mazda glc custom l\n",
      "376  31.0          4          91.0         68    1970          17.6    82       3                      mazda glc custom\n",
      "377  38.0          4         105.0         63    2125          14.7    82       1                plymouth horizon miser\n",
      "378  36.0          4          98.0         70    2125          17.3    82       1                        mercury lynx l\n",
      "379  36.0          4         120.0         88    2160          14.5    82       3                      nissan stanza xe\n",
      "380  36.0          4         107.0         75    2205          14.5    82       3                          honda accord\n",
      "381  34.0          4         108.0         70    2245          16.9    82       3                        toyota corolla\n",
      "382  38.0          4          91.0         67    1965          15.0    82       3                           honda civic\n",
      "383  32.0          4          91.0         67    1965          15.7    82       3                    honda civic (auto)\n",
      "384  38.0          4          91.0         67    1995          16.2    82       3                         datsun 310 gx\n",
      "385  25.0          6         181.0        110    2945          16.4    82       1                 buick century limited\n",
      "386  38.0          6         262.0         85    3015          17.0    82       1     oldsmobile cutlass ciera (diesel)\n",
      "387  26.0          4         156.0         92    2585          14.5    82       1            chrysler lebaron medallion\n",
      "388  22.0          6         232.0        112    2835          14.7    82       1                        ford granada l\n",
      "389  32.0          4         144.0         96    2665          13.9    82       3                      toyota celica gt\n",
      "390  36.0          4         135.0         84    2370          13.0    82       1                     dodge charger 2.2\n",
      "391  27.0          4         151.0         90    2950          17.3    82       1                      chevrolet camaro\n",
      "392  27.0          4         140.0         86    2790          15.6    82       1                       ford mustang gl\n",
      "393  44.0          4          97.0         52    2130          24.6    82       2                             vw pickup\n",
      "394  32.0          4         135.0         84    2295          11.6    82       1                         dodge rampage\n",
      "395  28.0          4         120.0         79    2625          18.6    82       1                           ford ranger\n",
      "396  31.0          4         119.0         82    2720          19.4    82       1                            chevy s-10\n"
     ]
    }
   ],
   "source": [
    "print(df.to_string()) "
   ]
  },
  {
   "cell_type": "code",
   "execution_count": 39,
   "id": "isolated-sessions",
   "metadata": {},
   "outputs": [],
   "source": [
    "arr = np.empty((8, 4))"
   ]
  },
  {
   "cell_type": "code",
   "execution_count": 40,
   "id": "fifteen-whole",
   "metadata": {},
   "outputs": [
    {
     "data": {
      "text/plain": [
       "array([[2.12199579e-314, 1.02223711e-311, 1.02223711e-311,\n",
       "        1.02223711e-311],\n",
       "       [1.02228862e-311, 1.02228924e-311, 1.02228924e-311,\n",
       "        1.02228924e-311],\n",
       "       [1.02228924e-311, 1.02228924e-311, 1.02228924e-311,\n",
       "        1.02223711e-311],\n",
       "       [1.02228924e-311, 1.02228913e-311, 1.02223711e-311,\n",
       "        1.02223711e-311],\n",
       "       [1.02228924e-311, 1.02228924e-311, 1.02228924e-311,\n",
       "        1.02228924e-311],\n",
       "       [1.02228924e-311, 1.02228924e-311, 1.02228924e-311,\n",
       "        1.02228913e-311],\n",
       "       [1.02228913e-311, 1.02228913e-311, 1.02228913e-311,\n",
       "        1.02228934e-311],\n",
       "       [1.02228934e-311, 1.02228934e-311, 1.02228934e-311,\n",
       "        1.02228934e-311]])"
      ]
     },
     "execution_count": 40,
     "metadata": {},
     "output_type": "execute_result"
    }
   ],
   "source": [
    "arr"
   ]
  },
  {
   "cell_type": "code",
   "execution_count": 41,
   "id": "greatest-documentary",
   "metadata": {},
   "outputs": [],
   "source": [
    "arr = np.arange(15).reshape((3, 5))"
   ]
  },
  {
   "cell_type": "code",
   "execution_count": 42,
   "id": "noble-amino",
   "metadata": {},
   "outputs": [
    {
     "data": {
      "text/plain": [
       "array([[ 0,  1,  2,  3,  4],\n",
       "       [ 5,  6,  7,  8,  9],\n",
       "       [10, 11, 12, 13, 14]])"
      ]
     },
     "execution_count": 42,
     "metadata": {},
     "output_type": "execute_result"
    }
   ],
   "source": [
    "arr"
   ]
  },
  {
   "cell_type": "code",
   "execution_count": null,
   "id": "responsible-writer",
   "metadata": {},
   "outputs": [],
   "source": []
  }
 ],
 "metadata": {
  "kernelspec": {
   "display_name": "Python 3",
   "language": "python",
   "name": "python3"
  },
  "language_info": {
   "codemirror_mode": {
    "name": "ipython",
    "version": 3
   },
   "file_extension": ".py",
   "mimetype": "text/x-python",
   "name": "python",
   "nbconvert_exporter": "python",
   "pygments_lexer": "ipython3",
   "version": "3.8.8"
  }
 },
 "nbformat": 4,
 "nbformat_minor": 5
}
